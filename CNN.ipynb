{
  "nbformat": 4,
  "nbformat_minor": 0,
  "metadata": {
    "colab": {
      "provenance": [],
      "machine_shape": "hm"
    },
    "kernelspec": {
      "name": "python3",
      "display_name": "Python 3"
    },
    "language_info": {
      "name": "python"
    }
  },
  "cells": [
    {
      "cell_type": "code",
      "execution_count": null,
      "metadata": {
        "colab": {
          "base_uri": "https://localhost:8080/"
        },
        "id": "ByGQods1mLIm",
        "outputId": "a4d4a3f2-7865-458d-d241-7856b55a65e2"
      },
      "outputs": [
        {
          "output_type": "stream",
          "name": "stdout",
          "text": [
            "Mounted at /content/drive\n"
          ]
        }
      ],
      "source": [
        "from google.colab import drive\n",
        "drive.mount('/content/drive')"
      ]
    },
    {
      "cell_type": "code",
      "source": [
        "import pandas as pd\n",
        "import numpy as np\n",
        "import re\n",
        "import random\n",
        "import string\n",
        "from collections import Counter\n",
        "from sklearn.model_selection import train_test_split\n",
        "from sklearn.metrics import classification_report, confusion_matrix, accuracy_score\n",
        "from keras.preprocessing.sequence import pad_sequences\n",
        "from keras.models import Sequential\n",
        "from keras.layers import Embedding, Conv1D, Dense, Dropout, GlobalMaxPooling1D, BatchNormalization\n",
        "from keras.optimizers import Adam\n",
        "from keras.callbacks import EarlyStopping\n",
        "import matplotlib.pyplot as plt\n",
        "import seaborn as sns\n",
        "from tqdm import tqdm\n",
        "from pygments.lexers import CLexer\n",
        "from pygments import lex\n",
        "import time"
      ],
      "metadata": {
        "id": "2uVR-ZWHmet6"
      },
      "execution_count": null,
      "outputs": []
    },
    {
      "cell_type": "code",
      "source": [
        "# Load Dataset\n",
        "# Sample a subset to fit into memory while ensuring balanced classes\n",
        "data_path = '/content/drive/MyDrive/704/MSR_data_cleaned.csv'\n",
        "\n",
        "with open(data_path, 'r') as file:\n",
        "    total_rows = sum(1 for _ in file)\n",
        "\n",
        "chunk_size = 100000\n",
        "chunks = []\n",
        "\n",
        "# Identify rows with issues to skip\n",
        "rows_to_skip = [188535]\n",
        "\n",
        "for chunk in pd.read_csv(data_path, chunksize=chunk_size, on_bad_lines='skip', skiprows=rows_to_skip, low_memory=False):\n",
        "    chunks.append(chunk)\n",
        "\n",
        "df = pd.read_csv(data_path, on_bad_lines='skip', skiprows=rows_to_skip, low_memory=False)"
      ],
      "metadata": {
        "id": "xtBrC-9TmgO3"
      },
      "execution_count": null,
      "outputs": []
    },
    {
      "cell_type": "code",
      "source": [
        "df = df.reset_index(drop=True)\n",
        "print(\"Dataset shape:\", df.shape)"
      ],
      "metadata": {
        "colab": {
          "base_uri": "https://localhost:8080/"
        },
        "id": "Ruixiylbm4J3",
        "outputId": "47f78197-bf37-4734-99c8-00737941f006"
      },
      "execution_count": null,
      "outputs": [
        {
          "output_type": "stream",
          "name": "stdout",
          "text": [
            "Dataset shape: (188534, 36)\n"
          ]
        }
      ]
    },
    {
      "cell_type": "code",
      "source": [
        "# Prepare features and labels\n",
        "np.random.seed(42)\n",
        "df['vul'] = df['vul'].apply(lambda x: 1 if x > 0 else 0)\n",
        "Y = df['vul'].values\n",
        "X = df['func_before'].tolist()"
      ],
      "metadata": {
        "id": "wNZh2EZMnGP_"
      },
      "execution_count": null,
      "outputs": []
    },
    {
      "cell_type": "code",
      "source": [
        "# Split the data into training, validation, and test sets\n",
        "X_temp, X_test, y_temp, y_test = train_test_split(X, Y, test_size=0.20, random_state=42, stratify=Y)\n",
        "X_train_original, X_val, y_train_original, y_val = train_test_split(X_temp, y_temp, test_size=0.25, random_state=42, stratify=y_temp)  # 0.25 x 0.8 = 0.20\n",
        "\n",
        "print(f\"Training set size: {len(X_train_original)}\")\n",
        "print(f\"Validation set size: {len(X_val)}\")\n",
        "print(f\"Test set size: {len(X_test)}\")"
      ],
      "metadata": {
        "colab": {
          "base_uri": "https://localhost:8080/"
        },
        "id": "8u8_CJU_nH9_",
        "outputId": "129aa3d2-b788-4058-bbc5-e6a7c65436b4"
      },
      "execution_count": null,
      "outputs": [
        {
          "output_type": "stream",
          "name": "stdout",
          "text": [
            "Training set size: 113120\n",
            "Validation set size: 37707\n",
            "Test set size: 37707\n"
          ]
        }
      ]
    },
    {
      "cell_type": "code",
      "source": [
        "# Check class distribution\n",
        "def print_class_distribution(y, dataset_name):\n",
        "    unique, counts = np.unique(y, return_counts=True)\n",
        "    class_counts = dict(zip(unique, counts))\n",
        "    print(f\"Class distribution in {dataset_name} set:\", class_counts)\n",
        "\n",
        "# Print class distributions\n",
        "print_class_distribution(y_train_original, \"original training\")\n",
        "print_class_distribution(y_val, \"validation\")\n",
        "print_class_distribution(y_test, \"test\")"
      ],
      "metadata": {
        "colab": {
          "base_uri": "https://localhost:8080/"
        },
        "id": "23F1AVCHnJdd",
        "outputId": "f883be44-d450-44f4-b4c0-5a5a598cc00b"
      },
      "execution_count": null,
      "outputs": [
        {
          "output_type": "stream",
          "name": "stdout",
          "text": [
            "Class distribution in original training set: {0: 106642, 1: 6478}\n",
            "Class distribution in validation set: {0: 35547, 1: 2160}\n",
            "Class distribution in test set: {0: 35547, 1: 2160}\n"
          ]
        }
      ]
    },
    {
      "cell_type": "code",
      "source": [
        "# Preprocessing and tokenization functions\n",
        "def preprocess_code(code):\n",
        "    code = re.sub(r'//.*', '', code)\n",
        "    code = re.sub(r'/\\*.*?\\*/', '', code, flags=re.DOTALL)\n",
        "    code = re.sub(r'\".*?\"', '', code)\n",
        "    code = re.sub(r'\\b[-+]?\\d*\\.?\\d+\\b', 'NUMBER', code)\n",
        "    return code.strip()\n",
        "\n",
        "def clexer_tokenize(code):\n",
        "    lexer = CLexer()\n",
        "    return [token[1] for token in lex(preprocess_code(code), lexer)]"
      ],
      "metadata": {
        "id": "0nZvg9SznLJa"
      },
      "execution_count": null,
      "outputs": []
    },
    {
      "cell_type": "code",
      "source": [
        "# List of C/C++ keywords to exclude\n",
        "c_keywords = set([\n",
        "    'auto', 'break', 'case', 'char', 'const', 'continue', 'default',\n",
        "    'do', 'double', 'else', 'enum', 'extern', 'float', 'for', 'goto',\n",
        "    'if', 'inline', 'int', 'long', 'register', 'restrict', 'return',\n",
        "    'short', 'signed', 'sizeof', 'static', 'struct', 'switch', 'typedef',\n",
        "    'union', 'unsigned', 'void', 'volatile', 'while', '_Alignas',\n",
        "    '_Alignof', '_Atomic', '_Bool', '_Complex', '_Generic', '_Imaginary',\n",
        "    '_Noreturn', '_Static_assert', '_Thread_local', 'NUMBER',\n",
        "    # Add more C++ keywords\n",
        "    'asm', 'bool', 'catch', 'class', 'const_cast', 'delete', 'dynamic_cast',\n",
        "    'explicit', 'export', 'false', 'friend', 'mutable', 'namespace', 'new',\n",
        "    'operator', 'private', 'protected', 'public', 'reinterpret_cast',\n",
        "    'static_cast', 'template', 'this', 'throw', 'true', 'try', 'typeid',\n",
        "    'typename', 'using', 'virtual', 'wchar_t'\n",
        "])\n",
        "\n",
        "def rename_variables(code):\n",
        "    # Pattern to find identifiers (variable and function names)\n",
        "    pattern = r'\\b([a-zA-Z_][a-zA-Z0-9_]*)\\b'\n",
        "\n",
        "    # Find all identifiers in the code\n",
        "    identifiers = set(re.findall(pattern, code))\n",
        "    # Exclude keywords\n",
        "    identifiers = identifiers - c_keywords\n",
        "\n",
        "    # Create a mapping from original names to new random names\n",
        "    new_names = {}\n",
        "    for identifier in identifiers:\n",
        "        # Generate a random name\n",
        "        random_name = ''.join(random.choices(string.ascii_letters, k=8))\n",
        "        new_names[identifier] = random_name\n",
        "\n",
        "    # Replace identifiers in the code\n",
        "    def replace_identifier(match):\n",
        "        word = match.group(0)\n",
        "        return new_names.get(word, word)\n",
        "\n",
        "    # Replace all occurrences using the pattern\n",
        "    augmented_code = re.sub(pattern, replace_identifier, code)\n",
        "    return augmented_code\n"
      ],
      "metadata": {
        "id": "VoQhp5vwnPQs"
      },
      "execution_count": null,
      "outputs": []
    },
    {
      "cell_type": "code",
      "source": [
        "def change_whitespace(code):\n",
        "    lines = code.split('\\n')\n",
        "    new_lines = []\n",
        "    for line in lines:\n",
        "        # Randomly change indentation\n",
        "        if line.strip():  # Ignore empty lines\n",
        "            indent = ' ' * random.randint(0, 4)\n",
        "            line = indent + line.lstrip()\n",
        "        # Randomly add blank lines\n",
        "        new_lines.append(line)\n",
        "        if random.random() < 0.1:  # 10% chance to add a blank line\n",
        "            new_lines.append('')\n",
        "    augmented_code = '\\n'.join(new_lines)\n",
        "    return augmented_code\n"
      ],
      "metadata": {
        "id": "S_oG0LoznM39"
      },
      "execution_count": null,
      "outputs": []
    },
    {
      "cell_type": "code",
      "source": [
        "def insert_comments(code):\n",
        "    lines = code.split('\\n')\n",
        "    new_lines = []\n",
        "    for line in lines:\n",
        "        # Remove existing comments\n",
        "        line = re.sub(r'//.*', '', line)\n",
        "        line = re.sub(r'/\\*.*?\\*/', '', line, flags=re.DOTALL)\n",
        "\n",
        "        new_lines.append(line)\n",
        "\n",
        "        # Randomly insert a comment\n",
        "        if random.random() < 0.2:  # 20% chance to insert a comment\n",
        "            comment = '// ' + random.choice([\n",
        "                'TODO: optimize this',\n",
        "                'Check for null pointers',\n",
        "                'Temporary fix',\n",
        "                'Refactor needed',\n",
        "                'Add error handling',\n",
        "                'Functionality confirmed',\n",
        "                'Review this code',\n",
        "                'Ensure thread safety'\n",
        "            ])\n",
        "            new_lines.append(comment)\n",
        "    augmented_code = '\\n'.join(new_lines)\n",
        "    return augmented_code\n"
      ],
      "metadata": {
        "id": "rYOjELLVnRKl"
      },
      "execution_count": null,
      "outputs": []
    },
    {
      "cell_type": "code",
      "source": [
        "def augment_code(code):\n",
        "    # Randomly decide which augmentations to apply\n",
        "    if random.random() < 0.7:  # 70% chance to rename variables\n",
        "        code = rename_variables(code)\n",
        "    if random.random() < 0.5:  # 50% chance to change whitespace\n",
        "        code = change_whitespace(code)\n",
        "    if random.random() < 0.3:  # 30% chance to insert comments\n",
        "        code = insert_comments(code)\n",
        "    return code\n"
      ],
      "metadata": {
        "id": "yrqRAT44nStX"
      },
      "execution_count": null,
      "outputs": []
    },
    {
      "cell_type": "code",
      "source": [
        "# Apply data augmentation to training data\n",
        "X_train_augmented = []\n",
        "y_train_augmented = []\n",
        "\n",
        "augmentation_factor = 2  # Number of augmented samples per original sample\n",
        "\n",
        "for code, label in zip(X_train_original, y_train_original):\n",
        "    # Add the original code\n",
        "    X_train_augmented.append(code)\n",
        "    y_train_augmented.append(label)\n",
        "\n",
        "    # Generate augmented samples\n",
        "    for _ in range(augmentation_factor):\n",
        "        augmented_code = augment_code(code)\n",
        "        X_train_augmented.append(augmented_code)\n",
        "        y_train_augmented.append(label)\n",
        "\n",
        "# Convert labels to NumPy arrays\n",
        "y_train_augmented = np.array(y_train_augmented)\n",
        "y_val = np.array(y_val)\n",
        "y_test = np.array(y_test)\n",
        "\n",
        "# Check class distribution after augmentation\n",
        "print_class_distribution(y_train_augmented, \"augmented training\")\n"
      ],
      "metadata": {
        "colab": {
          "base_uri": "https://localhost:8080/"
        },
        "id": "QSi85rjJnUFB",
        "outputId": "0989ab90-482a-46bb-e0ea-fc2c382d7743"
      },
      "execution_count": null,
      "outputs": [
        {
          "output_type": "stream",
          "name": "stdout",
          "text": [
            "Class distribution in augmented training set: {0: 319926, 1: 19434}\n"
          ]
        }
      ]
    },
    {
      "cell_type": "code",
      "source": [
        "# Tokenize training data\n",
        "X_train_tokenized = [clexer_tokenize(code) for code in tqdm(X_train_augmented, desc=\"Tokenizing Augmented Training Data\")]\n",
        "X_val_tokenized = [clexer_tokenize(code) for code in tqdm(X_val, desc=\"Tokenizing Validation Data\")]\n",
        "X_test_tokenized = [clexer_tokenize(code) for code in tqdm(X_test, desc=\"Tokenizing Test Data\")]\n",
        "\n",
        "# Calculate token frequencies from the augmented training data\n",
        "token_freq = Counter(token for tokens in X_train_tokenized for token in tokens)\n",
        "\n",
        "# Determine frequency threshold (e.g., 95th percentile)\n",
        "frequencies = list(token_freq.values())\n",
        "threshold_frequency = np.percentile(frequencies, 95)\n",
        "\n",
        "# Build vocabulary with tokens above the threshold frequency\n",
        "vocab = {token: idx + 1 for idx, (token, freq) in enumerate(token_freq.items()) if freq >= threshold_frequency}\n",
        "vocab_size = len(vocab)\n",
        "print(\"Vocabulary size:\", vocab_size)\n"
      ],
      "metadata": {
        "colab": {
          "base_uri": "https://localhost:8080/"
        },
        "id": "-vzdy3vvnWwB",
        "outputId": "e4c7a6d0-d16c-46dd-cc7b-381ce2af83b3"
      },
      "execution_count": null,
      "outputs": [
        {
          "output_type": "stream",
          "name": "stderr",
          "text": [
            "Tokenizing Augmented Training Data: 100%|██████████| 339360/339360 [07:27<00:00, 758.84it/s]\n",
            "Tokenizing Validation Data: 100%|██████████| 37707/37707 [00:49<00:00, 758.65it/s]\n",
            "Tokenizing Test Data: 100%|██████████| 37707/37707 [00:50<00:00, 747.34it/s]\n"
          ]
        },
        {
          "output_type": "stream",
          "name": "stdout",
          "text": [
            "Vocabulary size: 214063\n"
          ]
        }
      ]
    },
    {
      "cell_type": "code",
      "source": [
        "def tokens_to_integers(tokens):\n",
        "    return [vocab.get(token, 0) for token in tokens]  # Use 0 for unknown tokens\n",
        "\n",
        "X_train_seq = [tokens_to_integers(tokens) for tokens in X_train_tokenized]\n",
        "X_val_seq = [tokens_to_integers(tokens) for tokens in X_val_tokenized]\n",
        "X_test_seq = [tokens_to_integers(tokens) for tokens in X_test_tokenized]"
      ],
      "metadata": {
        "id": "2Y08megQn5aO"
      },
      "execution_count": null,
      "outputs": []
    },
    {
      "cell_type": "code",
      "source": [
        "# Determine the maximum sequence length (e.g., 98th percentile)\n",
        "sequence_lengths = [len(seq) for seq in X_train_seq + X_val_seq + X_test_seq]\n",
        "max_length = int(np.percentile(sequence_lengths, 98))\n",
        "print(\"Maximum sequence length:\", max_length)\n",
        "\n",
        "# Pad sequences\n",
        "X_train_padded = pad_sequences(X_train_seq, maxlen=max_length, padding='post', truncating='post')\n",
        "X_val_padded = pad_sequences(X_val_seq, maxlen=max_length, padding='post', truncating='post')\n",
        "X_test_padded = pad_sequences(X_test_seq, maxlen=max_length, padding='post', truncating='post')\n"
      ],
      "metadata": {
        "colab": {
          "base_uri": "https://localhost:8080/"
        },
        "id": "SZa4gwzAn_7q",
        "outputId": "3e2e8a56-ab7d-4ab7-b650-944e57ad0b55"
      },
      "execution_count": null,
      "outputs": [
        {
          "output_type": "stream",
          "name": "stdout",
          "text": [
            "Maximum sequence length: 1504\n"
          ]
        }
      ]
    },
    {
      "cell_type": "code",
      "source": [
        "# Ensure that input data and labels are NumPy arrays\n",
        "X_train_padded = np.array(X_train_padded)\n",
        "X_val_padded = np.array(X_val_padded)\n",
        "X_test_padded = np.array(X_test_padded)"
      ],
      "metadata": {
        "id": "FJsJHUW60h6E"
      },
      "execution_count": null,
      "outputs": []
    },
    {
      "cell_type": "code",
      "source": [
        "# Find out-of-bounds indices in X_train_padded\n",
        "out_of_bounds_indices = np.where(X_train_padded >= vocab_size + 1)\n",
        "\n",
        "# Print the coordinates of out-of-bounds indices\n",
        "print(\"Out-of-bounds indices:\", out_of_bounds_indices)"
      ],
      "metadata": {
        "colab": {
          "base_uri": "https://localhost:8080/"
        },
        "id": "fw0Zu-Re8Qjr",
        "outputId": "4a401af1-ed75-4526-c445-f5e08a11e28b"
      },
      "execution_count": null,
      "outputs": [
        {
          "output_type": "stream",
          "name": "stdout",
          "text": [
            "Out-of-bounds indices: (array([ 16179,  16179,  16179, ..., 339355, 339355, 339355]), array([19, 30, 43, ...,  2, 50, 70]))\n"
          ]
        }
      ]
    },
    {
      "cell_type": "code",
      "source": [
        "#Cap Indices\n",
        "X_train_padded = np.clip(X_train_padded, 0, vocab_size) # Clip indices to the range [0, vocab_size]\n",
        "X_val_padded = np.clip(X_val_padded, 0, vocab_size)\n",
        "X_test_padded = np.clip(X_test_padded, 0, vocab_size)"
      ],
      "metadata": {
        "id": "FCpQSyxU8dsV"
      },
      "execution_count": null,
      "outputs": []
    },
    {
      "cell_type": "code",
      "source": [
        "# Check shapes and types\n",
        "print(\"Type of X_train_padded:\", type(X_train_padded))\n",
        "print(\"Shape of X_train_padded:\", X_train_padded.shape)\n",
        "print(\"Type of y_train_augmented:\", type(y_train_augmented))\n",
        "print(\"Shape of y_train_augmented:\", y_train_augmented.shape)"
      ],
      "metadata": {
        "colab": {
          "base_uri": "https://localhost:8080/"
        },
        "id": "3IF9BsLQ0zYN",
        "outputId": "0ad0c918-c4e2-4506-ddcd-2bf412140b50"
      },
      "execution_count": null,
      "outputs": [
        {
          "output_type": "stream",
          "name": "stdout",
          "text": [
            "Type of X_train_padded: <class 'numpy.ndarray'>\n",
            "Shape of X_train_padded: (339360, 1504)\n",
            "Type of y_train_augmented: <class 'numpy.ndarray'>\n",
            "Shape of y_train_augmented: (339360,)\n"
          ]
        }
      ]
    },
    {
      "cell_type": "code",
      "source": [
        "# Ensure matching number of samples\n",
        "assert X_train_padded.shape[0] == y_train_augmented.shape[0], \"Mismatch in number of training samples and labels.\""
      ],
      "metadata": {
        "id": "5PiidfvQ03NB"
      },
      "execution_count": null,
      "outputs": []
    },
    {
      "cell_type": "code",
      "source": [
        "# Build and compile the CNN model\n",
        "embedding_dim = 100\n",
        "\n",
        "model_CNN = Sequential()\n",
        "model_CNN.add(Embedding(input_dim=vocab_size + 1, output_dim=embedding_dim, input_length=max_length, trainable=True))\n",
        "model_CNN.add(Conv1D(filters=128, kernel_size=5, activation='relu'))\n",
        "model_CNN.add(BatchNormalization())\n",
        "model_CNN.add(GlobalMaxPooling1D())\n",
        "model_CNN.add(Dense(64, activation='relu'))\n",
        "model_CNN.add(Dropout(0.5))\n",
        "model_CNN.add(Dense(1, activation='sigmoid'))\n",
        "\n",
        "optimizer = Adam(learning_rate=0.001)\n",
        "model_CNN.compile(optimizer=optimizer, loss='binary_crossentropy', metrics=['accuracy'])\n",
        "\n",
        "print(model_CNN.summary())"
      ],
      "metadata": {
        "colab": {
          "base_uri": "https://localhost:8080/",
          "height": 425
        },
        "id": "W35I_iRvoB_1",
        "outputId": "48626808-0b5e-4868-c5ff-de2eac6047eb"
      },
      "execution_count": null,
      "outputs": [
        {
          "output_type": "display_data",
          "data": {
            "text/plain": [
              "\u001b[1mModel: \"sequential_2\"\u001b[0m\n"
            ],
            "text/html": [
              "<pre style=\"white-space:pre;overflow-x:auto;line-height:normal;font-family:Menlo,'DejaVu Sans Mono',consolas,'Courier New',monospace\"><span style=\"font-weight: bold\">Model: \"sequential_2\"</span>\n",
              "</pre>\n"
            ]
          },
          "metadata": {}
        },
        {
          "output_type": "display_data",
          "data": {
            "text/plain": [
              "┏━━━━━━━━━━━━━━━━━━━━━━━━━━━━━━━━━━━━━━┳━━━━━━━━━━━━━━━━━━━━━━━━━━━━━┳━━━━━━━━━━━━━━━━━┓\n",
              "┃\u001b[1m \u001b[0m\u001b[1mLayer (type)                        \u001b[0m\u001b[1m \u001b[0m┃\u001b[1m \u001b[0m\u001b[1mOutput Shape               \u001b[0m\u001b[1m \u001b[0m┃\u001b[1m \u001b[0m\u001b[1m        Param #\u001b[0m\u001b[1m \u001b[0m┃\n",
              "┡━━━━━━━━━━━━━━━━━━━━━━━━━━━━━━━━━━━━━━╇━━━━━━━━━━━━━━━━━━━━━━━━━━━━━╇━━━━━━━━━━━━━━━━━┩\n",
              "│ embedding_2 (\u001b[38;5;33mEmbedding\u001b[0m)              │ ?                           │     \u001b[38;5;34m0\u001b[0m (unbuilt) │\n",
              "├──────────────────────────────────────┼─────────────────────────────┼─────────────────┤\n",
              "│ conv1d_2 (\u001b[38;5;33mConv1D\u001b[0m)                    │ ?                           │     \u001b[38;5;34m0\u001b[0m (unbuilt) │\n",
              "├──────────────────────────────────────┼─────────────────────────────┼─────────────────┤\n",
              "│ batch_normalization_2                │ ?                           │     \u001b[38;5;34m0\u001b[0m (unbuilt) │\n",
              "│ (\u001b[38;5;33mBatchNormalization\u001b[0m)                 │                             │                 │\n",
              "├──────────────────────────────────────┼─────────────────────────────┼─────────────────┤\n",
              "│ global_max_pooling1d_2               │ ?                           │     \u001b[38;5;34m0\u001b[0m (unbuilt) │\n",
              "│ (\u001b[38;5;33mGlobalMaxPooling1D\u001b[0m)                 │                             │                 │\n",
              "├──────────────────────────────────────┼─────────────────────────────┼─────────────────┤\n",
              "│ dense_4 (\u001b[38;5;33mDense\u001b[0m)                      │ ?                           │     \u001b[38;5;34m0\u001b[0m (unbuilt) │\n",
              "├──────────────────────────────────────┼─────────────────────────────┼─────────────────┤\n",
              "│ dropout_2 (\u001b[38;5;33mDropout\u001b[0m)                  │ ?                           │     \u001b[38;5;34m0\u001b[0m (unbuilt) │\n",
              "├──────────────────────────────────────┼─────────────────────────────┼─────────────────┤\n",
              "│ dense_5 (\u001b[38;5;33mDense\u001b[0m)                      │ ?                           │     \u001b[38;5;34m0\u001b[0m (unbuilt) │\n",
              "└──────────────────────────────────────┴─────────────────────────────┴─────────────────┘\n"
            ],
            "text/html": [
              "<pre style=\"white-space:pre;overflow-x:auto;line-height:normal;font-family:Menlo,'DejaVu Sans Mono',consolas,'Courier New',monospace\">┏━━━━━━━━━━━━━━━━━━━━━━━━━━━━━━━━━━━━━━┳━━━━━━━━━━━━━━━━━━━━━━━━━━━━━┳━━━━━━━━━━━━━━━━━┓\n",
              "┃<span style=\"font-weight: bold\"> Layer (type)                         </span>┃<span style=\"font-weight: bold\"> Output Shape                </span>┃<span style=\"font-weight: bold\">         Param # </span>┃\n",
              "┡━━━━━━━━━━━━━━━━━━━━━━━━━━━━━━━━━━━━━━╇━━━━━━━━━━━━━━━━━━━━━━━━━━━━━╇━━━━━━━━━━━━━━━━━┩\n",
              "│ embedding_2 (<span style=\"color: #0087ff; text-decoration-color: #0087ff\">Embedding</span>)              │ ?                           │     <span style=\"color: #00af00; text-decoration-color: #00af00\">0</span> (unbuilt) │\n",
              "├──────────────────────────────────────┼─────────────────────────────┼─────────────────┤\n",
              "│ conv1d_2 (<span style=\"color: #0087ff; text-decoration-color: #0087ff\">Conv1D</span>)                    │ ?                           │     <span style=\"color: #00af00; text-decoration-color: #00af00\">0</span> (unbuilt) │\n",
              "├──────────────────────────────────────┼─────────────────────────────┼─────────────────┤\n",
              "│ batch_normalization_2                │ ?                           │     <span style=\"color: #00af00; text-decoration-color: #00af00\">0</span> (unbuilt) │\n",
              "│ (<span style=\"color: #0087ff; text-decoration-color: #0087ff\">BatchNormalization</span>)                 │                             │                 │\n",
              "├──────────────────────────────────────┼─────────────────────────────┼─────────────────┤\n",
              "│ global_max_pooling1d_2               │ ?                           │     <span style=\"color: #00af00; text-decoration-color: #00af00\">0</span> (unbuilt) │\n",
              "│ (<span style=\"color: #0087ff; text-decoration-color: #0087ff\">GlobalMaxPooling1D</span>)                 │                             │                 │\n",
              "├──────────────────────────────────────┼─────────────────────────────┼─────────────────┤\n",
              "│ dense_4 (<span style=\"color: #0087ff; text-decoration-color: #0087ff\">Dense</span>)                      │ ?                           │     <span style=\"color: #00af00; text-decoration-color: #00af00\">0</span> (unbuilt) │\n",
              "├──────────────────────────────────────┼─────────────────────────────┼─────────────────┤\n",
              "│ dropout_2 (<span style=\"color: #0087ff; text-decoration-color: #0087ff\">Dropout</span>)                  │ ?                           │     <span style=\"color: #00af00; text-decoration-color: #00af00\">0</span> (unbuilt) │\n",
              "├──────────────────────────────────────┼─────────────────────────────┼─────────────────┤\n",
              "│ dense_5 (<span style=\"color: #0087ff; text-decoration-color: #0087ff\">Dense</span>)                      │ ?                           │     <span style=\"color: #00af00; text-decoration-color: #00af00\">0</span> (unbuilt) │\n",
              "└──────────────────────────────────────┴─────────────────────────────┴─────────────────┘\n",
              "</pre>\n"
            ]
          },
          "metadata": {}
        },
        {
          "output_type": "display_data",
          "data": {
            "text/plain": [
              "\u001b[1m Total params: \u001b[0m\u001b[38;5;34m0\u001b[0m (0.00 B)\n"
            ],
            "text/html": [
              "<pre style=\"white-space:pre;overflow-x:auto;line-height:normal;font-family:Menlo,'DejaVu Sans Mono',consolas,'Courier New',monospace\"><span style=\"font-weight: bold\"> Total params: </span><span style=\"color: #00af00; text-decoration-color: #00af00\">0</span> (0.00 B)\n",
              "</pre>\n"
            ]
          },
          "metadata": {}
        },
        {
          "output_type": "display_data",
          "data": {
            "text/plain": [
              "\u001b[1m Trainable params: \u001b[0m\u001b[38;5;34m0\u001b[0m (0.00 B)\n"
            ],
            "text/html": [
              "<pre style=\"white-space:pre;overflow-x:auto;line-height:normal;font-family:Menlo,'DejaVu Sans Mono',consolas,'Courier New',monospace\"><span style=\"font-weight: bold\"> Trainable params: </span><span style=\"color: #00af00; text-decoration-color: #00af00\">0</span> (0.00 B)\n",
              "</pre>\n"
            ]
          },
          "metadata": {}
        },
        {
          "output_type": "display_data",
          "data": {
            "text/plain": [
              "\u001b[1m Non-trainable params: \u001b[0m\u001b[38;5;34m0\u001b[0m (0.00 B)\n"
            ],
            "text/html": [
              "<pre style=\"white-space:pre;overflow-x:auto;line-height:normal;font-family:Menlo,'DejaVu Sans Mono',consolas,'Courier New',monospace\"><span style=\"font-weight: bold\"> Non-trainable params: </span><span style=\"color: #00af00; text-decoration-color: #00af00\">0</span> (0.00 B)\n",
              "</pre>\n"
            ]
          },
          "metadata": {}
        },
        {
          "output_type": "stream",
          "name": "stdout",
          "text": [
            "None\n"
          ]
        }
      ]
    },
    {
      "cell_type": "code",
      "source": [
        "# Train the model\n",
        "early_stopping = EarlyStopping(monitor='val_loss', patience=5)\n",
        "\n",
        "start_time = time.time()\n",
        "history_CNN = model_CNN.fit(\n",
        "    X_train_padded, y_train_augmented,\n",
        "    validation_data=(X_val_padded, y_val),\n",
        "    epochs=20,\n",
        "    batch_size=128,\n",
        "    callbacks=[early_stopping],\n",
        "    verbose=1\n",
        ")\n",
        "training_time = time.time() - start_time\n",
        "print(f\"Training time: {training_time:.2f} seconds\")"
      ],
      "metadata": {
        "colab": {
          "base_uri": "https://localhost:8080/"
        },
        "id": "73o135D4oGeB",
        "outputId": "6e5f733b-a52c-45a3-cf89-0d46b8e72a5e"
      },
      "execution_count": null,
      "outputs": [
        {
          "output_type": "stream",
          "name": "stdout",
          "text": [
            "Epoch 1/20\n",
            "\u001b[1m2652/2652\u001b[0m \u001b[32m━━━━━━━━━━━━━━━━━━━━\u001b[0m\u001b[37m\u001b[0m \u001b[1m1743s\u001b[0m 656ms/step - accuracy: 0.9632 - loss: 0.1322 - val_accuracy: 0.9843 - val_loss: 0.0516\n",
            "Epoch 2/20\n",
            "\u001b[1m2652/2652\u001b[0m \u001b[32m━━━━━━━━━━━━━━━━━━━━\u001b[0m\u001b[37m\u001b[0m \u001b[1m1669s\u001b[0m 629ms/step - accuracy: 0.9763 - loss: 0.0797 - val_accuracy: 0.9848 - val_loss: 0.0545\n",
            "Epoch 3/20\n",
            "\u001b[1m2652/2652\u001b[0m \u001b[32m━━━━━━━━━━━━━━━━━━━━\u001b[0m\u001b[37m\u001b[0m \u001b[1m1776s\u001b[0m 670ms/step - accuracy: 0.9803 - loss: 0.0666 - val_accuracy: 0.9850 - val_loss: 0.0580\n",
            "Epoch 4/20\n",
            "\u001b[1m2652/2652\u001b[0m \u001b[32m━━━━━━━━━━━━━━━━━━━━\u001b[0m\u001b[37m\u001b[0m \u001b[1m1935s\u001b[0m 730ms/step - accuracy: 0.9825 - loss: 0.0584 - val_accuracy: 0.9834 - val_loss: 0.0769\n",
            "Epoch 5/20\n",
            "\u001b[1m2652/2652\u001b[0m \u001b[32m━━━━━━━━━━━━━━━━━━━━\u001b[0m\u001b[37m\u001b[0m \u001b[1m1922s\u001b[0m 725ms/step - accuracy: 0.9837 - loss: 0.0552 - val_accuracy: 0.9851 - val_loss: 0.0685\n",
            "Epoch 6/20\n",
            "\u001b[1m2652/2652\u001b[0m \u001b[32m━━━━━━━━━━━━━━━━━━━━\u001b[0m\u001b[37m\u001b[0m \u001b[1m1938s\u001b[0m 731ms/step - accuracy: 0.9852 - loss: 0.0503 - val_accuracy: 0.9842 - val_loss: 0.0719\n",
            "Training time: 10988.49 seconds\n"
          ]
        }
      ]
    },
    {
      "cell_type": "code",
      "source": [
        "# Evaluate the Model\n",
        "def plot_training_history(history):\n",
        "    plt.figure(figsize=(12, 4))\n",
        "\n",
        "    # Plot accuracy\n",
        "    plt.subplot(1, 2, 1)\n",
        "    plt.plot(history.history['accuracy'], label='Train')\n",
        "    plt.plot(history.history['val_accuracy'], label='Validation')\n",
        "    plt.title('Model Accuracy')\n",
        "    plt.xlabel('Epoch')\n",
        "    plt.ylabel('Accuracy')\n",
        "    plt.legend()\n",
        "\n",
        "    # Plot loss\n",
        "    plt.subplot(1, 2, 2)\n",
        "    plt.plot(history.history['loss'], label='Train')\n",
        "    plt.plot(history.history['val_loss'], label='Validation')\n",
        "    plt.title('Model Loss')\n",
        "    plt.xlabel('Epoch')\n",
        "    plt.ylabel('Loss')\n",
        "    plt.legend()\n",
        "\n",
        "    plt.show()\n",
        "\n",
        "plot_training_history(history_CNN)\n"
      ],
      "metadata": {
        "colab": {
          "base_uri": "https://localhost:8080/",
          "height": 368
        },
        "id": "m1Kolv-DoI3K",
        "outputId": "2f90d5af-35c4-49fc-bbe4-4eb167bcb403"
      },
      "execution_count": null,
      "outputs": [
        {
          "output_type": "display_data",
          "data": {
            "text/plain": [
              "<Figure size 1200x400 with 2 Axes>"
            ],
            "image/png": "[encoded data removed]"
          },
          "metadata": {}
        }
      ]
    },
    {
      "cell_type": "code",
      "source": [
        "# Evaluate on Test Set\n",
        "# Predict on test data\n",
        "y_test_pred_probs = model_CNN.predict(X_test_padded)\n",
        "y_test_pred = (y_test_pred_probs > 0.5).astype(\"int32\")\n",
        "\n",
        "# Calculate accuracy\n",
        "test_accuracy = accuracy_score(y_test, y_test_pred)\n",
        "print(f\"Test Accuracy: {test_accuracy:.4f}\")\n",
        "\n",
        "# Classification report\n",
        "print(\"Classification Report:\")\n",
        "print(classification_report(y_test, y_test_pred))\n",
        "\n",
        "# Confusion matrix\n",
        "conf_matrix = confusion_matrix(y_test, y_test_pred)\n",
        "sns.heatmap(conf_matrix, annot=True, fmt='d', cmap='Blues')\n",
        "plt.xlabel('Predicted Label')\n",
        "plt.ylabel('True Label')\n",
        "plt.title('Confusion Matrix')\n",
        "plt.show()\n"
      ],
      "metadata": {
        "colab": {
          "base_uri": "https://localhost:8080/",
          "height": 680
        },
        "id": "LW6UuNJPoS-G",
        "outputId": "2d991276-5a10-414c-f825-e47b41a92cd4"
      },
      "execution_count": null,
      "outputs": [
        {
          "output_type": "stream",
          "name": "stdout",
          "text": [
            "\u001b[1m1179/1179\u001b[0m \u001b[32m━━━━━━━━━━━━━━━━━━━━\u001b[0m\u001b[37m\u001b[0m \u001b[1m38s\u001b[0m 32ms/step\n",
            "Test Accuracy: 0.9849\n",
            "Classification Report:\n",
            "              precision    recall  f1-score   support\n",
            "\n",
            "           0       0.99      1.00      0.99     35547\n",
            "           1       0.91      0.81      0.86      2160\n",
            "\n",
            "    accuracy                           0.98     37707\n",
            "   macro avg       0.95      0.90      0.93     37707\n",
            "weighted avg       0.98      0.98      0.98     37707\n",
            "\n"
          ]
        },
        {
          "output_type": "display_data",
          "data": {
            "text/plain": [
              "<Figure size 640x480 with 2 Axes>"
            ],
            "image/png": "[encoded data removed]"
          },
          "metadata": {}
        }
      ]
    }
  ]
}