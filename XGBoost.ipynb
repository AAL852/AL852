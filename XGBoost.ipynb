{
  "nbformat": 4,
  "nbformat_minor": 0,
  "metadata": {
    "colab": {
      "provenance": [],
      "machine_shape": "hm",
      "gpuType": "A100"
    },
    "kernelspec": {
      "name": "python3",
      "display_name": "Python 3"
    },
    "language_info": {
      "name": "python"
    },
    "accelerator": "GPU"
  },
  "cells": [
    {
      "cell_type": "code",
      "execution_count": 1,
      "metadata": {
        "id": "AdbO_coXmZX6",
        "colab": {
          "base_uri": "https://localhost:8080/",
          "height": 0
        },
        "outputId": "05ab1ba3-ed78-4a98-e798-56b8f123cae3"
      },
      "outputs": [
        {
          "output_type": "stream",
          "name": "stdout",
          "text": [
            "Mounted at /content/drive\n"
          ]
        }
      ],
      "source": [
        "from google.colab import drive\n",
        "drive.mount('/content/drive')"
      ]
    },
    {
      "cell_type": "code",
      "source": [
        "# Import necessary libraries\n",
        "import numpy as np\n",
        "import pandas as pd\n",
        "import re\n",
        "import time\n",
        "from sklearn.metrics import accuracy_score, classification_report, confusion_matrix, ConfusionMatrixDisplay\n",
        "from sklearn.feature_extraction.text import TfidfVectorizer\n",
        "from sklearn.model_selection import RandomizedSearchCV, StratifiedKFold, cross_val_score, train_test_split\n",
        "from sklearn.metrics import f1_score\n",
        "import matplotlib.pyplot as plt\n",
        "from pygments.lexers import CLexer\n",
        "from pygments import lex\n",
        "from imblearn.over_sampling import RandomOverSampler\n",
        "import random\n",
        "import string\n",
        "import xgboost as xgb\n",
        "from scipy import sparse"
      ],
      "metadata": {
        "id": "wrEmw0uYpjjU"
      },
      "execution_count": 2,
      "outputs": []
    },
    {
      "cell_type": "code",
      "source": [
        "# Fix random seeds for reproducibility\n",
        "np.random.seed(42)\n",
        "random.seed(42)\n",
        "\n",
        "# Load Dataset\n",
        "# Sample a subset to fit into memory while ensuring balanced classes\n",
        "data_path = '/content/drive/MyDrive/704/MSR_data_cleaned.csv'\n",
        "\n",
        "with open(data_path, 'r') as file:\n",
        "    total_rows = sum(1 for _ in file)\n",
        "\n",
        "chunk_size = 100000\n",
        "chunks = []\n",
        "\n",
        "# Identify rows with issues to skip\n",
        "rows_to_skip = [188535]\n",
        "\n",
        "for chunk in pd.read_csv(data_path, chunksize=chunk_size, on_bad_lines='skip', skiprows=rows_to_skip, low_memory=False):\n",
        "    chunks.append(chunk)\n",
        "\n",
        "df = pd.read_csv(data_path, on_bad_lines='skip', skiprows=rows_to_skip, low_memory=False)\n",
        "print(\"Dataset shape:\", df.shape)"
      ],
      "metadata": {
        "colab": {
          "base_uri": "https://localhost:8080/",
          "height": 0
        },
        "id": "g-d6iQ5WpljI",
        "outputId": "83382cc8-9c52-42e7-f659-0a51d035f842"
      },
      "execution_count": 3,
      "outputs": [
        {
          "output_type": "stream",
          "name": "stdout",
          "text": [
            "Dataset shape: (188534, 36)\n"
          ]
        }
      ]
    },
    {
      "cell_type": "code",
      "source": [
        "# Prepare features and labels\n",
        "X = df['func_before']  # Replace with your actual code column name\n",
        "y = df['vul'].apply(lambda x: 1 if int(x) > 0 else 0)  # Ensure labels are binary (0 or 1)"
      ],
      "metadata": {
        "id": "u-SvzcZGpzpf"
      },
      "execution_count": 4,
      "outputs": []
    },
    {
      "cell_type": "code",
      "source": [
        "# Split the data\n",
        "X_temp, X_test, y_temp, y_test = train_test_split(X, y, test_size=0.20, random_state=42, stratify=y)\n",
        "X_train_original, X_val, y_train_original, y_val = train_test_split(\n",
        "    X_temp, y_temp, test_size=0.25, random_state=42, stratify=y_temp)  # 0.25 x 0.8 = 0.20\n",
        "\n",
        "print(f\"Training set size: {len(X_train_original)}\")\n",
        "print(f\"Validation set size: {len(X_val)}\")\n",
        "print(f\"Test set size: {len(X_test)}\")"
      ],
      "metadata": {
        "colab": {
          "base_uri": "https://localhost:8080/",
          "height": 0
        },
        "id": "MaaXzcqEp2SX",
        "outputId": "9e901448-198c-4022-9787-ec4643e1e264"
      },
      "execution_count": 5,
      "outputs": [
        {
          "output_type": "stream",
          "name": "stdout",
          "text": [
            "Training set size: 113120\n",
            "Validation set size: 37707\n",
            "Test set size: 37707\n"
          ]
        }
      ]
    },
    {
      "cell_type": "code",
      "source": [
        "# Function to print class distribution\n",
        "def print_class_distribution(y, dataset_name):\n",
        "    unique, counts = np.unique(y, return_counts=True)\n",
        "    class_counts = dict(zip(unique, counts))\n",
        "    print(f\"Class distribution in {dataset_name} set:\", class_counts)\n",
        "\n",
        "print_class_distribution(y_train_original, \"Original Training\")\n",
        "print_class_distribution(y_val, \"Validation\")\n",
        "print_class_distribution(y_test, \"Test\")"
      ],
      "metadata": {
        "colab": {
          "base_uri": "https://localhost:8080/",
          "height": 0
        },
        "id": "rP1F9_Mbp4ai",
        "outputId": "039d2589-64f3-4b7c-da80-9c4ba8e6d653"
      },
      "execution_count": 6,
      "outputs": [
        {
          "output_type": "stream",
          "name": "stdout",
          "text": [
            "Class distribution in Original Training set: {0: 106642, 1: 6478}\n",
            "Class distribution in Validation set: {0: 35547, 1: 2160}\n",
            "Class distribution in Test set: {0: 35547, 1: 2160}\n"
          ]
        }
      ]
    },
    {
      "cell_type": "code",
      "source": [
        "# Preprocessing function\n",
        "def preprocess_code(code):\n",
        "    code = re.sub(r'//.*', '', code)  # Remove single-line comments\n",
        "    code = re.sub(r'/\\*.*?\\*/', '', code, flags=re.DOTALL)  # Remove multi-line comments\n",
        "    code = re.sub(r'\".*?\"', '', code)  # Remove string literals\n",
        "    code = re.sub(r'\\b[-+]?\\d*\\.?\\d+\\b', 'NUMBER', code)  # Normalize numbers\n",
        "    return code.strip()"
      ],
      "metadata": {
        "id": "pIM5bRx9p4dS"
      },
      "execution_count": 7,
      "outputs": []
    },
    {
      "cell_type": "code",
      "source": [
        "# Data Augmentation: Variable Renaming\n",
        "c_keywords = set([\n",
        "    'auto', 'break', 'case', 'char', 'const', 'continue', 'default',\n",
        "    'do', 'double', 'else', 'enum', 'extern', 'float', 'for', 'goto',\n",
        "    'if', 'inline', 'int', 'long', 'register', 'restrict', 'return',\n",
        "    'short', 'signed', 'sizeof', 'static', 'struct', 'switch', 'typedef',\n",
        "    'union', 'unsigned', 'void', 'volatile', 'while', '_Alignas',\n",
        "    '_Alignof', '_Atomic', '_Bool', '_Complex', '_Generic', '_Imaginary',\n",
        "    '_Noreturn', '_Static_assert', '_Thread_local', 'NUMBER',\n",
        "    # Add more C++ keywords\n",
        "    'asm', 'bool', 'catch', 'class', 'const_cast', 'delete', 'dynamic_cast',\n",
        "    'explicit', 'export', 'false', 'friend', 'mutable', 'namespace', 'new',\n",
        "    'operator', 'private', 'protected', 'public', 'reinterpret_cast',\n",
        "    'static_cast', 'template', 'this', 'throw', 'true', 'try', 'typeid',\n",
        "    'typename', 'using', 'virtual', 'wchar_t'\n",
        "])\n",
        "\n",
        "def rename_variables(code):\n",
        "    # Pattern to find identifiers (variable and function names)\n",
        "    pattern = r'\\b([a-zA-Z_][a-zA-Z0-9_]*)\\b'\n",
        "\n",
        "    # Find all identifiers in the code\n",
        "    identifiers = set(re.findall(pattern, code))\n",
        "    # Exclude keywords\n",
        "    identifiers = identifiers - c_keywords\n",
        "\n",
        "    # Create a mapping from original names to new random names\n",
        "    new_names = {}\n",
        "    for identifier in identifiers:\n",
        "        # Generate a random name\n",
        "        random_name = ''.join(random.choices(string.ascii_letters, k=8))\n",
        "        new_names[identifier] = random_name\n",
        "\n",
        "    # Replace identifiers in the code\n",
        "    def replace_identifier(match):\n",
        "        word = match.group(0)\n",
        "        return new_names.get(word, word)\n",
        "\n",
        "    # Replace all occurrences using the pattern\n",
        "    augmented_code = re.sub(pattern, replace_identifier, code)\n",
        "    return augmented_code\n",
        "\n",
        "# Apply data augmentation to training data\n",
        "augmentation_factor = 1  # Adjust as needed\n",
        "X_train_augmented = []\n",
        "y_train_augmented = []"
      ],
      "metadata": {
        "id": "hStbhJxPqCC8"
      },
      "execution_count": 8,
      "outputs": []
    },
    {
      "cell_type": "code",
      "source": [
        "\n",
        "for code, label in zip(X_train_original, y_train_original):\n",
        "    # Add the original code\n",
        "    X_train_augmented.append(code)\n",
        "    y_train_augmented.append(label)\n",
        "\n",
        "    # Generate augmented samples\n",
        "    for _ in range(augmentation_factor):\n",
        "        augmented_code = rename_variables(code)\n",
        "        X_train_augmented.append(augmented_code)\n",
        "        y_train_augmented.append(label)\n",
        "\n",
        "# Convert to pandas Series\n",
        "X_train_augmented = pd.Series(X_train_augmented)\n",
        "y_train_augmented = pd.Series(y_train_augmented)\n",
        "\n",
        "# Apply preprocessing\n",
        "X_train_augmented = X_train_augmented.apply(preprocess_code)\n",
        "X_val = X_val.apply(preprocess_code)\n",
        "X_test = X_test.apply(preprocess_code)"
      ],
      "metadata": {
        "id": "iHkPpgnIqCFT"
      },
      "execution_count": 9,
      "outputs": []
    },
    {
      "cell_type": "code",
      "source": [
        "# Tokenization function\n",
        "def clexer_tokenize(code):\n",
        "    lexer = CLexer()\n",
        "    try:\n",
        "        tokens = ' '.join([token[1] for token in lex(code, lexer)])\n",
        "    except:\n",
        "        tokens = ''\n",
        "    return tokens\n",
        "\n",
        "# Tokenize the code snippets\n",
        "X_train_tokenized = X_train_augmented.apply(clexer_tokenize)\n",
        "X_val_tokenized = X_val.apply(clexer_tokenize)\n",
        "X_test_tokenized = X_test.apply(clexer_tokenize)"
      ],
      "metadata": {
        "id": "yNF_fUf9qCH2"
      },
      "execution_count": 10,
      "outputs": []
    },
    {
      "cell_type": "code",
      "source": [
        "# Vectorization with TF-IDF\n",
        "vectorizer = TfidfVectorizer(max_features=5000, lowercase=False, min_df=2)\n",
        "X_train_vectorized = vectorizer.fit_transform(X_train_tokenized)\n",
        "X_val_vectorized = vectorizer.transform(X_val_tokenized)\n",
        "X_test_vectorized = vectorizer.transform(X_test_tokenized)\n",
        "\n",
        "print(\"Training data shape:\", X_train_vectorized.shape)\n",
        "print(\"Validation data shape:\", X_val_vectorized.shape)\n",
        "print(\"Test data shape:\", X_test_vectorized.shape)"
      ],
      "metadata": {
        "colab": {
          "base_uri": "https://localhost:8080/",
          "height": 0
        },
        "id": "4uTf7nrIqcSf",
        "outputId": "7f2ed996-4b3c-43ef-8cbc-8dc591aae77c"
      },
      "execution_count": 11,
      "outputs": [
        {
          "output_type": "stream",
          "name": "stdout",
          "text": [
            "Training data shape: (226240, 5000)\n",
            "Validation data shape: (37707, 5000)\n",
            "Test data shape: (37707, 5000)\n"
          ]
        }
      ]
    },
    {
      "cell_type": "code",
      "source": [
        "# Handle class imbalance\n",
        "ros = RandomOverSampler(random_state=42)\n",
        "X_train_resampled, y_train_resampled = ros.fit_resample(X_train_vectorized, y_train_augmented)\n",
        "\n",
        "print(\"Resampled training data shape:\", X_train_resampled.shape)\n",
        "print_class_distribution(y_train_resampled, \"Resampled Training\")"
      ],
      "metadata": {
        "colab": {
          "base_uri": "https://localhost:8080/",
          "height": 0
        },
        "id": "jsXuSI3WqcVc",
        "outputId": "ecba8276-a19e-4149-bb37-e1a47928c886"
      },
      "execution_count": 12,
      "outputs": [
        {
          "output_type": "stream",
          "name": "stdout",
          "text": [
            "Resampled training data shape: (426568, 5000)\n",
            "Class distribution in Resampled Training set: {0: 213284, 1: 213284}\n"
          ]
        }
      ]
    },
    {
      "cell_type": "code",
      "source": [
        "# Convert to DMatrix for XGBoost\n",
        "dtrain = xgb.DMatrix(X_train_resampled, label=y_train_resampled)\n",
        "dval = xgb.DMatrix(X_val_vectorized, label=y_val)\n",
        "dtest = xgb.DMatrix(X_test_vectorized, label=y_test)"
      ],
      "metadata": {
        "id": "txzsR9zMqcYW"
      },
      "execution_count": 13,
      "outputs": []
    },
    {
      "cell_type": "code",
      "source": [
        "# Calculate scale_pos_weight\n",
        "from collections import Counter\n",
        "\n",
        "counter = Counter(y_train_resampled)\n",
        "majority = counter[0]\n",
        "minority = counter[1]\n",
        "scale_pos_weight = majority / minority\n",
        "\n",
        "print(f\"Scale Pos Weight: {scale_pos_weight}\")"
      ],
      "metadata": {
        "colab": {
          "base_uri": "https://localhost:8080/",
          "height": 0
        },
        "id": "S7iKJ-lLqj-X",
        "outputId": "0975170a-68b3-47d9-e6d6-8a8a104dc95d"
      },
      "execution_count": 14,
      "outputs": [
        {
          "output_type": "stream",
          "name": "stdout",
          "text": [
            "Scale Pos Weight: 1.0\n"
          ]
        }
      ]
    },
    {
      "cell_type": "code",
      "source": [
        "# XGBoost Model Training with GPU\n",
        "xgb_params = {\n",
        "    'objective': 'binary:logistic',\n",
        "    'eval_metric': 'auc',\n",
        "    'tree_method': 'gpu_hist',\n",
        "    'gpu_id': 0,\n",
        "    'scale_pos_weight': scale_pos_weight,\n",
        "    'max_depth': 5,\n",
        "    'learning_rate': 0.1,\n",
        "    'subsample': 0.8,\n",
        "    'colsample_bytree': 0.8,\n",
        "    'reg_alpha': 0.1,\n",
        "    'reg_lambda': 1.0,\n",
        "    'random_state': 42\n",
        "}\n",
        "\n",
        "evals = [(dtrain, 'train'), (dval, 'eval')]"
      ],
      "metadata": {
        "id": "bDRxZScZqkBM"
      },
      "execution_count": 15,
      "outputs": []
    },
    {
      "cell_type": "code",
      "source": [
        "# Train the model with early stopping\n",
        "num_boost_round = 1000\n",
        "early_stopping_rounds = 10\n",
        "\n",
        "train_start = time.time()\n",
        "bst = xgb.train(\n",
        "    params=xgb_params,\n",
        "    dtrain=dtrain,\n",
        "    num_boost_round=num_boost_round,\n",
        "    evals=evals,\n",
        "    early_stopping_rounds=early_stopping_rounds,\n",
        "    verbose_eval=True\n",
        ")\n",
        "train_time = time.time() - train_start\n",
        "print(f\"Training time: {train_time / 60:.2f} minutes\")"
      ],
      "metadata": {
        "colab": {
          "base_uri": "https://localhost:8080/",
          "height": 0
        },
        "id": "9Te-GEouqkEN",
        "outputId": "1c0d5e56-805d-42ec-e818-285b6c4f5388"
      },
      "execution_count": 16,
      "outputs": [
        {
          "output_type": "stream",
          "name": "stderr",
          "text": [
            "/usr/local/lib/python3.10/dist-packages/xgboost/core.py:158: UserWarning: [18:19:22] WARNING: /workspace/src/common/error_msg.cc:45: `gpu_id` is deprecated since2.0.0, use `device` instead. E.g. device=cpu/cuda/cuda:0\n",
            "  warnings.warn(smsg, UserWarning)\n",
            "/usr/local/lib/python3.10/dist-packages/xgboost/core.py:158: UserWarning: [18:19:22] WARNING: /workspace/src/common/error_msg.cc:27: The tree method `gpu_hist` is deprecated since 2.0.0. To use GPU training, set the `device` parameter to CUDA instead.\n",
            "\n",
            "    E.g. tree_method = \"hist\", device = \"cuda\"\n",
            "\n",
            "  warnings.warn(smsg, UserWarning)\n"
          ]
        },
        {
          "output_type": "stream",
          "name": "stdout",
          "text": [
            "[0]\ttrain-auc:0.66059\teval-auc:0.64563\n",
            "[1]\ttrain-auc:0.68915\teval-auc:0.67610\n",
            "[2]\ttrain-auc:0.69922\teval-auc:0.68278\n",
            "[3]\ttrain-auc:0.70201\teval-auc:0.68297\n",
            "[4]\ttrain-auc:0.70374\teval-auc:0.68365\n",
            "[5]\ttrain-auc:0.71170\teval-auc:0.69211\n",
            "[6]\ttrain-auc:0.71410\teval-auc:0.69595\n",
            "[7]\ttrain-auc:0.71616\teval-auc:0.69885\n",
            "[8]\ttrain-auc:0.71664\teval-auc:0.69906\n",
            "[9]\ttrain-auc:0.71768\teval-auc:0.70071\n",
            "[10]\ttrain-auc:0.71907\teval-auc:0.70225\n",
            "[11]\ttrain-auc:0.71996\teval-auc:0.70321\n",
            "[12]\ttrain-auc:0.72144\teval-auc:0.70537\n",
            "[13]\ttrain-auc:0.72297\teval-auc:0.70707\n",
            "[14]\ttrain-auc:0.72435\teval-auc:0.70890\n",
            "[15]\ttrain-auc:0.72561\teval-auc:0.71040\n",
            "[16]\ttrain-auc:0.72672\teval-auc:0.71205\n",
            "[17]\ttrain-auc:0.72819\teval-auc:0.71322\n",
            "[18]\ttrain-auc:0.72922\teval-auc:0.71461\n",
            "[19]\ttrain-auc:0.73046\teval-auc:0.71642\n",
            "[20]\ttrain-auc:0.73136\teval-auc:0.71744\n",
            "[21]\ttrain-auc:0.73240\teval-auc:0.71849\n",
            "[22]\ttrain-auc:0.73332\teval-auc:0.71967\n",
            "[23]\ttrain-auc:0.73451\teval-auc:0.72072\n",
            "[24]\ttrain-auc:0.73525\teval-auc:0.72158\n",
            "[25]\ttrain-auc:0.73593\teval-auc:0.72226\n",
            "[26]\ttrain-auc:0.73657\teval-auc:0.72302\n",
            "[27]\ttrain-auc:0.73754\teval-auc:0.72399\n",
            "[28]\ttrain-auc:0.73853\teval-auc:0.72468\n",
            "[29]\ttrain-auc:0.73926\teval-auc:0.72561\n",
            "[30]\ttrain-auc:0.73996\teval-auc:0.72607\n",
            "[31]\ttrain-auc:0.74068\teval-auc:0.72702\n",
            "[32]\ttrain-auc:0.74140\teval-auc:0.72797\n",
            "[33]\ttrain-auc:0.74186\teval-auc:0.72826\n",
            "[34]\ttrain-auc:0.74243\teval-auc:0.72892\n",
            "[35]\ttrain-auc:0.74291\teval-auc:0.72935\n",
            "[36]\ttrain-auc:0.74381\teval-auc:0.72988\n",
            "[37]\ttrain-auc:0.74412\teval-auc:0.73058\n",
            "[38]\ttrain-auc:0.74469\teval-auc:0.73165\n",
            "[39]\ttrain-auc:0.74505\teval-auc:0.73174\n",
            "[40]\ttrain-auc:0.74570\teval-auc:0.73244\n",
            "[41]\ttrain-auc:0.74626\teval-auc:0.73307\n",
            "[42]\ttrain-auc:0.74692\teval-auc:0.73362\n",
            "[43]\ttrain-auc:0.74740\teval-auc:0.73421\n",
            "[44]\ttrain-auc:0.74784\teval-auc:0.73478\n",
            "[45]\ttrain-auc:0.74824\teval-auc:0.73528\n",
            "[46]\ttrain-auc:0.74868\teval-auc:0.73576\n",
            "[47]\ttrain-auc:0.74918\teval-auc:0.73645\n",
            "[48]\ttrain-auc:0.74949\teval-auc:0.73679\n",
            "[49]\ttrain-auc:0.74985\teval-auc:0.73715\n",
            "[50]\ttrain-auc:0.75027\teval-auc:0.73742\n",
            "[51]\ttrain-auc:0.75080\teval-auc:0.73767\n",
            "[52]\ttrain-auc:0.75110\teval-auc:0.73798\n",
            "[53]\ttrain-auc:0.75151\teval-auc:0.73821\n",
            "[54]\ttrain-auc:0.75204\teval-auc:0.73871\n",
            "[55]\ttrain-auc:0.75229\teval-auc:0.73899\n",
            "[56]\ttrain-auc:0.75265\teval-auc:0.73935\n",
            "[57]\ttrain-auc:0.75318\teval-auc:0.73978\n",
            "[58]\ttrain-auc:0.75349\teval-auc:0.74041\n",
            "[59]\ttrain-auc:0.75396\teval-auc:0.74052\n",
            "[60]\ttrain-auc:0.75419\teval-auc:0.74079\n",
            "[61]\ttrain-auc:0.75468\teval-auc:0.74096\n",
            "[62]\ttrain-auc:0.75511\teval-auc:0.74144\n",
            "[63]\ttrain-auc:0.75555\teval-auc:0.74166\n",
            "[64]\ttrain-auc:0.75607\teval-auc:0.74231\n",
            "[65]\ttrain-auc:0.75639\teval-auc:0.74275\n",
            "[66]\ttrain-auc:0.75714\teval-auc:0.74280\n",
            "[67]\ttrain-auc:0.75745\teval-auc:0.74307\n",
            "[68]\ttrain-auc:0.75773\teval-auc:0.74332\n",
            "[69]\ttrain-auc:0.75816\teval-auc:0.74381\n",
            "[70]\ttrain-auc:0.75840\teval-auc:0.74397\n",
            "[71]\ttrain-auc:0.75869\teval-auc:0.74453\n",
            "[72]\ttrain-auc:0.75909\teval-auc:0.74489\n",
            "[73]\ttrain-auc:0.75969\teval-auc:0.74493\n",
            "[74]\ttrain-auc:0.75994\teval-auc:0.74524\n",
            "[75]\ttrain-auc:0.76030\teval-auc:0.74525\n",
            "[76]\ttrain-auc:0.76054\teval-auc:0.74525\n",
            "[77]\ttrain-auc:0.76078\teval-auc:0.74537\n",
            "[78]\ttrain-auc:0.76110\teval-auc:0.74557\n",
            "[79]\ttrain-auc:0.76150\teval-auc:0.74563\n",
            "[80]\ttrain-auc:0.76185\teval-auc:0.74585\n",
            "[81]\ttrain-auc:0.76216\teval-auc:0.74606\n",
            "[82]\ttrain-auc:0.76257\teval-auc:0.74618\n",
            "[83]\ttrain-auc:0.76301\teval-auc:0.74620\n",
            "[84]\ttrain-auc:0.76345\teval-auc:0.74664\n",
            "[85]\ttrain-auc:0.76374\teval-auc:0.74702\n",
            "[86]\ttrain-auc:0.76395\teval-auc:0.74726\n",
            "[87]\ttrain-auc:0.76421\teval-auc:0.74708\n",
            "[88]\ttrain-auc:0.76451\teval-auc:0.74746\n",
            "[89]\ttrain-auc:0.76479\teval-auc:0.74764\n",
            "[90]\ttrain-auc:0.76504\teval-auc:0.74778\n",
            "[91]\ttrain-auc:0.76529\teval-auc:0.74813\n",
            "[92]\ttrain-auc:0.76574\teval-auc:0.74843\n",
            "[93]\ttrain-auc:0.76601\teval-auc:0.74841\n",
            "[94]\ttrain-auc:0.76636\teval-auc:0.74869\n",
            "[95]\ttrain-auc:0.76662\teval-auc:0.74895\n",
            "[96]\ttrain-auc:0.76685\teval-auc:0.74907\n",
            "[97]\ttrain-auc:0.76713\teval-auc:0.74939\n",
            "[98]\ttrain-auc:0.76730\teval-auc:0.74950\n",
            "[99]\ttrain-auc:0.76761\teval-auc:0.74955\n",
            "[100]\ttrain-auc:0.76796\teval-auc:0.74944\n",
            "[101]\ttrain-auc:0.76813\teval-auc:0.74950\n",
            "[102]\ttrain-auc:0.76837\teval-auc:0.74989\n",
            "[103]\ttrain-auc:0.76876\teval-auc:0.75024\n",
            "[104]\ttrain-auc:0.76904\teval-auc:0.75045\n",
            "[105]\ttrain-auc:0.76926\teval-auc:0.75057\n",
            "[106]\ttrain-auc:0.76967\teval-auc:0.75105\n",
            "[107]\ttrain-auc:0.76982\teval-auc:0.75117\n",
            "[108]\ttrain-auc:0.77023\teval-auc:0.75152\n",
            "[109]\ttrain-auc:0.77052\teval-auc:0.75179\n",
            "[110]\ttrain-auc:0.77077\teval-auc:0.75183\n",
            "[111]\ttrain-auc:0.77093\teval-auc:0.75202\n",
            "[112]\ttrain-auc:0.77114\teval-auc:0.75210\n",
            "[113]\ttrain-auc:0.77137\teval-auc:0.75229\n",
            "[114]\ttrain-auc:0.77161\teval-auc:0.75246\n",
            "[115]\ttrain-auc:0.77196\teval-auc:0.75286\n",
            "[116]\ttrain-auc:0.77221\teval-auc:0.75296\n",
            "[117]\ttrain-auc:0.77246\teval-auc:0.75317\n",
            "[118]\ttrain-auc:0.77262\teval-auc:0.75333\n",
            "[119]\ttrain-auc:0.77289\teval-auc:0.75351\n",
            "[120]\ttrain-auc:0.77306\teval-auc:0.75365\n",
            "[121]\ttrain-auc:0.77326\teval-auc:0.75382\n",
            "[122]\ttrain-auc:0.77337\teval-auc:0.75392\n",
            "[123]\ttrain-auc:0.77356\teval-auc:0.75397\n",
            "[124]\ttrain-auc:0.77390\teval-auc:0.75424\n",
            "[125]\ttrain-auc:0.77411\teval-auc:0.75419\n",
            "[126]\ttrain-auc:0.77440\teval-auc:0.75443\n",
            "[127]\ttrain-auc:0.77479\teval-auc:0.75448\n",
            "[128]\ttrain-auc:0.77507\teval-auc:0.75457\n",
            "[129]\ttrain-auc:0.77537\teval-auc:0.75460\n",
            "[130]\ttrain-auc:0.77556\teval-auc:0.75467\n",
            "[131]\ttrain-auc:0.77594\teval-auc:0.75499\n",
            "[132]\ttrain-auc:0.77618\teval-auc:0.75531\n",
            "[133]\ttrain-auc:0.77641\teval-auc:0.75535\n",
            "[134]\ttrain-auc:0.77669\teval-auc:0.75559\n",
            "[135]\ttrain-auc:0.77681\teval-auc:0.75579\n",
            "[136]\ttrain-auc:0.77703\teval-auc:0.75596\n",
            "[137]\ttrain-auc:0.77720\teval-auc:0.75612\n",
            "[138]\ttrain-auc:0.77734\teval-auc:0.75631\n",
            "[139]\ttrain-auc:0.77769\teval-auc:0.75666\n",
            "[140]\ttrain-auc:0.77783\teval-auc:0.75675\n",
            "[141]\ttrain-auc:0.77815\teval-auc:0.75683\n",
            "[142]\ttrain-auc:0.77838\teval-auc:0.75722\n",
            "[143]\ttrain-auc:0.77854\teval-auc:0.75738\n",
            "[144]\ttrain-auc:0.77881\teval-auc:0.75743\n",
            "[145]\ttrain-auc:0.77901\teval-auc:0.75759\n",
            "[146]\ttrain-auc:0.77916\teval-auc:0.75776\n",
            "[147]\ttrain-auc:0.77931\teval-auc:0.75783\n",
            "[148]\ttrain-auc:0.77961\teval-auc:0.75784\n",
            "[149]\ttrain-auc:0.77989\teval-auc:0.75822\n",
            "[150]\ttrain-auc:0.78030\teval-auc:0.75843\n",
            "[151]\ttrain-auc:0.78053\teval-auc:0.75862\n",
            "[152]\ttrain-auc:0.78081\teval-auc:0.75877\n",
            "[153]\ttrain-auc:0.78111\teval-auc:0.75862\n",
            "[154]\ttrain-auc:0.78131\teval-auc:0.75867\n",
            "[155]\ttrain-auc:0.78164\teval-auc:0.75868\n",
            "[156]\ttrain-auc:0.78181\teval-auc:0.75899\n",
            "[157]\ttrain-auc:0.78226\teval-auc:0.75934\n",
            "[158]\ttrain-auc:0.78237\teval-auc:0.75940\n",
            "[159]\ttrain-auc:0.78253\teval-auc:0.75972\n",
            "[160]\ttrain-auc:0.78273\teval-auc:0.75981\n",
            "[161]\ttrain-auc:0.78285\teval-auc:0.75994\n",
            "[162]\ttrain-auc:0.78305\teval-auc:0.76001\n",
            "[163]\ttrain-auc:0.78325\teval-auc:0.76030\n",
            "[164]\ttrain-auc:0.78342\teval-auc:0.76041\n",
            "[165]\ttrain-auc:0.78355\teval-auc:0.76056\n",
            "[166]\ttrain-auc:0.78371\teval-auc:0.76059\n",
            "[167]\ttrain-auc:0.78385\teval-auc:0.76052\n",
            "[168]\ttrain-auc:0.78411\teval-auc:0.76062\n",
            "[169]\ttrain-auc:0.78425\teval-auc:0.76072\n",
            "[170]\ttrain-auc:0.78454\teval-auc:0.76094\n",
            "[171]\ttrain-auc:0.78474\teval-auc:0.76115\n",
            "[172]\ttrain-auc:0.78488\teval-auc:0.76140\n",
            "[173]\ttrain-auc:0.78504\teval-auc:0.76141\n",
            "[174]\ttrain-auc:0.78523\teval-auc:0.76158\n",
            "[175]\ttrain-auc:0.78548\teval-auc:0.76155\n",
            "[176]\ttrain-auc:0.78570\teval-auc:0.76172\n",
            "[177]\ttrain-auc:0.78587\teval-auc:0.76193\n",
            "[178]\ttrain-auc:0.78608\teval-auc:0.76212\n",
            "[179]\ttrain-auc:0.78642\teval-auc:0.76227\n",
            "[180]\ttrain-auc:0.78660\teval-auc:0.76252\n",
            "[181]\ttrain-auc:0.78680\teval-auc:0.76289\n",
            "[182]\ttrain-auc:0.78702\teval-auc:0.76308\n",
            "[183]\ttrain-auc:0.78719\teval-auc:0.76319\n",
            "[184]\ttrain-auc:0.78732\teval-auc:0.76324\n",
            "[185]\ttrain-auc:0.78750\teval-auc:0.76336\n",
            "[186]\ttrain-auc:0.78766\teval-auc:0.76341\n",
            "[187]\ttrain-auc:0.78793\teval-auc:0.76349\n",
            "[188]\ttrain-auc:0.78815\teval-auc:0.76350\n",
            "[189]\ttrain-auc:0.78833\teval-auc:0.76366\n",
            "[190]\ttrain-auc:0.78860\teval-auc:0.76351\n",
            "[191]\ttrain-auc:0.78883\teval-auc:0.76383\n",
            "[192]\ttrain-auc:0.78901\teval-auc:0.76401\n",
            "[193]\ttrain-auc:0.78908\teval-auc:0.76402\n",
            "[194]\ttrain-auc:0.78922\teval-auc:0.76410\n",
            "[195]\ttrain-auc:0.78942\teval-auc:0.76432\n",
            "[196]\ttrain-auc:0.78961\teval-auc:0.76444\n",
            "[197]\ttrain-auc:0.78977\teval-auc:0.76497\n",
            "[198]\ttrain-auc:0.78995\teval-auc:0.76497\n",
            "[199]\ttrain-auc:0.79026\teval-auc:0.76519\n",
            "[200]\ttrain-auc:0.79046\teval-auc:0.76536\n",
            "[201]\ttrain-auc:0.79067\teval-auc:0.76547\n",
            "[202]\ttrain-auc:0.79088\teval-auc:0.76559\n",
            "[203]\ttrain-auc:0.79104\teval-auc:0.76559\n",
            "[204]\ttrain-auc:0.79120\teval-auc:0.76566\n",
            "[205]\ttrain-auc:0.79139\teval-auc:0.76564\n",
            "[206]\ttrain-auc:0.79159\teval-auc:0.76594\n",
            "[207]\ttrain-auc:0.79171\teval-auc:0.76589\n",
            "[208]\ttrain-auc:0.79185\teval-auc:0.76600\n",
            "[209]\ttrain-auc:0.79207\teval-auc:0.76596\n",
            "[210]\ttrain-auc:0.79228\teval-auc:0.76607\n",
            "[211]\ttrain-auc:0.79255\teval-auc:0.76606\n",
            "[212]\ttrain-auc:0.79274\teval-auc:0.76625\n",
            "[213]\ttrain-auc:0.79294\teval-auc:0.76622\n",
            "[214]\ttrain-auc:0.79305\teval-auc:0.76645\n",
            "[215]\ttrain-auc:0.79322\teval-auc:0.76646\n",
            "[216]\ttrain-auc:0.79335\teval-auc:0.76655\n",
            "[217]\ttrain-auc:0.79352\teval-auc:0.76660\n",
            "[218]\ttrain-auc:0.79376\teval-auc:0.76655\n",
            "[219]\ttrain-auc:0.79383\teval-auc:0.76662\n",
            "[220]\ttrain-auc:0.79400\teval-auc:0.76676\n",
            "[221]\ttrain-auc:0.79416\teval-auc:0.76671\n",
            "[222]\ttrain-auc:0.79426\teval-auc:0.76670\n",
            "[223]\ttrain-auc:0.79439\teval-auc:0.76682\n",
            "[224]\ttrain-auc:0.79456\teval-auc:0.76717\n",
            "[225]\ttrain-auc:0.79467\teval-auc:0.76723\n",
            "[226]\ttrain-auc:0.79488\teval-auc:0.76729\n",
            "[227]\ttrain-auc:0.79506\teval-auc:0.76737\n",
            "[228]\ttrain-auc:0.79546\teval-auc:0.76767\n",
            "[229]\ttrain-auc:0.79570\teval-auc:0.76774\n",
            "[230]\ttrain-auc:0.79582\teval-auc:0.76785\n",
            "[231]\ttrain-auc:0.79625\teval-auc:0.76797\n",
            "[232]\ttrain-auc:0.79641\teval-auc:0.76797\n",
            "[233]\ttrain-auc:0.79656\teval-auc:0.76815\n",
            "[234]\ttrain-auc:0.79679\teval-auc:0.76841\n",
            "[235]\ttrain-auc:0.79689\teval-auc:0.76854\n",
            "[236]\ttrain-auc:0.79707\teval-auc:0.76859\n",
            "[237]\ttrain-auc:0.79733\teval-auc:0.76888\n",
            "[238]\ttrain-auc:0.79745\teval-auc:0.76899\n",
            "[239]\ttrain-auc:0.79760\teval-auc:0.76897\n",
            "[240]\ttrain-auc:0.79783\teval-auc:0.76898\n",
            "[241]\ttrain-auc:0.79796\teval-auc:0.76907\n",
            "[242]\ttrain-auc:0.79812\teval-auc:0.76914\n",
            "[243]\ttrain-auc:0.79836\teval-auc:0.76917\n",
            "[244]\ttrain-auc:0.79847\teval-auc:0.76926\n",
            "[245]\ttrain-auc:0.79869\teval-auc:0.76940\n",
            "[246]\ttrain-auc:0.79877\teval-auc:0.76944\n",
            "[247]\ttrain-auc:0.79888\teval-auc:0.76959\n",
            "[248]\ttrain-auc:0.79897\teval-auc:0.76964\n",
            "[249]\ttrain-auc:0.79922\teval-auc:0.76977\n",
            "[250]\ttrain-auc:0.79932\teval-auc:0.76979\n",
            "[251]\ttrain-auc:0.79959\teval-auc:0.76992\n",
            "[252]\ttrain-auc:0.79972\teval-auc:0.76994\n",
            "[253]\ttrain-auc:0.79982\teval-auc:0.77012\n",
            "[254]\ttrain-auc:0.80000\teval-auc:0.77015\n",
            "[255]\ttrain-auc:0.80010\teval-auc:0.77014\n",
            "[256]\ttrain-auc:0.80026\teval-auc:0.77025\n",
            "[257]\ttrain-auc:0.80042\teval-auc:0.77036\n",
            "[258]\ttrain-auc:0.80050\teval-auc:0.77042\n",
            "[259]\ttrain-auc:0.80064\teval-auc:0.77042\n",
            "[260]\ttrain-auc:0.80075\teval-auc:0.77033\n",
            "[261]\ttrain-auc:0.80084\teval-auc:0.77044\n",
            "[262]\ttrain-auc:0.80091\teval-auc:0.77046\n",
            "[263]\ttrain-auc:0.80110\teval-auc:0.77055\n",
            "[264]\ttrain-auc:0.80122\teval-auc:0.77061\n",
            "[265]\ttrain-auc:0.80143\teval-auc:0.77058\n",
            "[266]\ttrain-auc:0.80168\teval-auc:0.77055\n",
            "[267]\ttrain-auc:0.80189\teval-auc:0.77079\n",
            "[268]\ttrain-auc:0.80227\teval-auc:0.77092\n",
            "[269]\ttrain-auc:0.80241\teval-auc:0.77098\n",
            "[270]\ttrain-auc:0.80260\teval-auc:0.77089\n",
            "[271]\ttrain-auc:0.80271\teval-auc:0.77103\n",
            "[272]\ttrain-auc:0.80285\teval-auc:0.77113\n",
            "[273]\ttrain-auc:0.80304\teval-auc:0.77116\n",
            "[274]\ttrain-auc:0.80314\teval-auc:0.77125\n",
            "[275]\ttrain-auc:0.80325\teval-auc:0.77136\n",
            "[276]\ttrain-auc:0.80336\teval-auc:0.77145\n",
            "[277]\ttrain-auc:0.80347\teval-auc:0.77133\n",
            "[278]\ttrain-auc:0.80362\teval-auc:0.77123\n",
            "[279]\ttrain-auc:0.80375\teval-auc:0.77135\n",
            "[280]\ttrain-auc:0.80390\teval-auc:0.77141\n",
            "[281]\ttrain-auc:0.80416\teval-auc:0.77162\n",
            "[282]\ttrain-auc:0.80425\teval-auc:0.77171\n",
            "[283]\ttrain-auc:0.80442\teval-auc:0.77171\n",
            "[284]\ttrain-auc:0.80453\teval-auc:0.77180\n",
            "[285]\ttrain-auc:0.80467\teval-auc:0.77186\n",
            "[286]\ttrain-auc:0.80475\teval-auc:0.77184\n",
            "[287]\ttrain-auc:0.80496\teval-auc:0.77187\n",
            "[288]\ttrain-auc:0.80508\teval-auc:0.77199\n",
            "[289]\ttrain-auc:0.80513\teval-auc:0.77205\n",
            "[290]\ttrain-auc:0.80527\teval-auc:0.77205\n",
            "[291]\ttrain-auc:0.80542\teval-auc:0.77207\n",
            "[292]\ttrain-auc:0.80552\teval-auc:0.77219\n",
            "[293]\ttrain-auc:0.80565\teval-auc:0.77217\n",
            "[294]\ttrain-auc:0.80576\teval-auc:0.77225\n",
            "[295]\ttrain-auc:0.80585\teval-auc:0.77225\n",
            "[296]\ttrain-auc:0.80595\teval-auc:0.77215\n",
            "[297]\ttrain-auc:0.80614\teval-auc:0.77236\n",
            "[298]\ttrain-auc:0.80630\teval-auc:0.77223\n",
            "[299]\ttrain-auc:0.80641\teval-auc:0.77229\n",
            "[300]\ttrain-auc:0.80650\teval-auc:0.77233\n",
            "[301]\ttrain-auc:0.80660\teval-auc:0.77249\n",
            "[302]\ttrain-auc:0.80668\teval-auc:0.77262\n",
            "[303]\ttrain-auc:0.80678\teval-auc:0.77280\n",
            "[304]\ttrain-auc:0.80692\teval-auc:0.77274\n",
            "[305]\ttrain-auc:0.80710\teval-auc:0.77271\n",
            "[306]\ttrain-auc:0.80725\teval-auc:0.77277\n",
            "[307]\ttrain-auc:0.80738\teval-auc:0.77290\n",
            "[308]\ttrain-auc:0.80751\teval-auc:0.77291\n",
            "[309]\ttrain-auc:0.80765\teval-auc:0.77288\n",
            "[310]\ttrain-auc:0.80779\teval-auc:0.77299\n",
            "[311]\ttrain-auc:0.80805\teval-auc:0.77312\n",
            "[312]\ttrain-auc:0.80817\teval-auc:0.77332\n",
            "[313]\ttrain-auc:0.80831\teval-auc:0.77323\n",
            "[314]\ttrain-auc:0.80842\teval-auc:0.77320\n",
            "[315]\ttrain-auc:0.80852\teval-auc:0.77313\n",
            "[316]\ttrain-auc:0.80865\teval-auc:0.77320\n",
            "[317]\ttrain-auc:0.80879\teval-auc:0.77321\n",
            "[318]\ttrain-auc:0.80889\teval-auc:0.77338\n",
            "[319]\ttrain-auc:0.80903\teval-auc:0.77340\n",
            "[320]\ttrain-auc:0.80912\teval-auc:0.77335\n",
            "[321]\ttrain-auc:0.80930\teval-auc:0.77356\n",
            "[322]\ttrain-auc:0.80954\teval-auc:0.77352\n",
            "[323]\ttrain-auc:0.80971\teval-auc:0.77333\n",
            "[324]\ttrain-auc:0.80975\teval-auc:0.77341\n",
            "[325]\ttrain-auc:0.80997\teval-auc:0.77348\n",
            "[326]\ttrain-auc:0.81007\teval-auc:0.77341\n",
            "[327]\ttrain-auc:0.81023\teval-auc:0.77344\n",
            "[328]\ttrain-auc:0.81041\teval-auc:0.77333\n",
            "[329]\ttrain-auc:0.81056\teval-auc:0.77336\n",
            "[330]\ttrain-auc:0.81073\teval-auc:0.77362\n",
            "[331]\ttrain-auc:0.81086\teval-auc:0.77368\n",
            "[332]\ttrain-auc:0.81096\teval-auc:0.77368\n",
            "[333]\ttrain-auc:0.81106\teval-auc:0.77388\n",
            "[334]\ttrain-auc:0.81124\teval-auc:0.77397\n",
            "[335]\ttrain-auc:0.81134\teval-auc:0.77398\n",
            "[336]\ttrain-auc:0.81154\teval-auc:0.77405\n",
            "[337]\ttrain-auc:0.81163\teval-auc:0.77401\n",
            "[338]\ttrain-auc:0.81176\teval-auc:0.77410\n",
            "[339]\ttrain-auc:0.81184\teval-auc:0.77404\n",
            "[340]\ttrain-auc:0.81208\teval-auc:0.77409\n",
            "[341]\ttrain-auc:0.81217\teval-auc:0.77420\n",
            "[342]\ttrain-auc:0.81230\teval-auc:0.77434\n",
            "[343]\ttrain-auc:0.81244\teval-auc:0.77433\n",
            "[344]\ttrain-auc:0.81260\teval-auc:0.77428\n",
            "[345]\ttrain-auc:0.81271\teval-auc:0.77439\n",
            "[346]\ttrain-auc:0.81282\teval-auc:0.77448\n",
            "[347]\ttrain-auc:0.81290\teval-auc:0.77439\n",
            "[348]\ttrain-auc:0.81303\teval-auc:0.77465\n",
            "[349]\ttrain-auc:0.81326\teval-auc:0.77462\n",
            "[350]\ttrain-auc:0.81337\teval-auc:0.77460\n",
            "[351]\ttrain-auc:0.81350\teval-auc:0.77454\n",
            "[352]\ttrain-auc:0.81363\teval-auc:0.77458\n",
            "[353]\ttrain-auc:0.81375\teval-auc:0.77462\n",
            "[354]\ttrain-auc:0.81385\teval-auc:0.77464\n",
            "[355]\ttrain-auc:0.81391\teval-auc:0.77470\n",
            "[356]\ttrain-auc:0.81411\teval-auc:0.77474\n",
            "[357]\ttrain-auc:0.81422\teval-auc:0.77481\n",
            "[358]\ttrain-auc:0.81433\teval-auc:0.77475\n",
            "[359]\ttrain-auc:0.81451\teval-auc:0.77484\n",
            "[360]\ttrain-auc:0.81458\teval-auc:0.77494\n",
            "[361]\ttrain-auc:0.81471\teval-auc:0.77493\n",
            "[362]\ttrain-auc:0.81480\teval-auc:0.77499\n",
            "[363]\ttrain-auc:0.81492\teval-auc:0.77509\n",
            "[364]\ttrain-auc:0.81503\teval-auc:0.77504\n",
            "[365]\ttrain-auc:0.81514\teval-auc:0.77515\n",
            "[366]\ttrain-auc:0.81540\teval-auc:0.77511\n",
            "[367]\ttrain-auc:0.81566\teval-auc:0.77508\n",
            "[368]\ttrain-auc:0.81577\teval-auc:0.77523\n",
            "[369]\ttrain-auc:0.81587\teval-auc:0.77528\n",
            "[370]\ttrain-auc:0.81601\teval-auc:0.77540\n",
            "[371]\ttrain-auc:0.81611\teval-auc:0.77570\n",
            "[372]\ttrain-auc:0.81628\teval-auc:0.77581\n",
            "[373]\ttrain-auc:0.81636\teval-auc:0.77582\n",
            "[374]\ttrain-auc:0.81646\teval-auc:0.77591\n",
            "[375]\ttrain-auc:0.81656\teval-auc:0.77590\n",
            "[376]\ttrain-auc:0.81667\teval-auc:0.77587\n",
            "[377]\ttrain-auc:0.81689\teval-auc:0.77590\n",
            "[378]\ttrain-auc:0.81694\teval-auc:0.77584\n",
            "[379]\ttrain-auc:0.81703\teval-auc:0.77593\n",
            "[380]\ttrain-auc:0.81713\teval-auc:0.77601\n",
            "[381]\ttrain-auc:0.81721\teval-auc:0.77593\n",
            "[382]\ttrain-auc:0.81728\teval-auc:0.77609\n",
            "[383]\ttrain-auc:0.81735\teval-auc:0.77615\n",
            "[384]\ttrain-auc:0.81746\teval-auc:0.77616\n",
            "[385]\ttrain-auc:0.81756\teval-auc:0.77609\n",
            "[386]\ttrain-auc:0.81774\teval-auc:0.77610\n",
            "[387]\ttrain-auc:0.81790\teval-auc:0.77621\n",
            "[388]\ttrain-auc:0.81797\teval-auc:0.77639\n",
            "[389]\ttrain-auc:0.81817\teval-auc:0.77646\n",
            "[390]\ttrain-auc:0.81826\teval-auc:0.77648\n",
            "[391]\ttrain-auc:0.81836\teval-auc:0.77650\n",
            "[392]\ttrain-auc:0.81845\teval-auc:0.77651\n",
            "[393]\ttrain-auc:0.81859\teval-auc:0.77651\n",
            "[394]\ttrain-auc:0.81870\teval-auc:0.77658\n",
            "[395]\ttrain-auc:0.81880\teval-auc:0.77656\n",
            "[396]\ttrain-auc:0.81901\teval-auc:0.77649\n",
            "[397]\ttrain-auc:0.81910\teval-auc:0.77662\n",
            "[398]\ttrain-auc:0.81916\teval-auc:0.77675\n",
            "[399]\ttrain-auc:0.81924\teval-auc:0.77680\n",
            "[400]\ttrain-auc:0.81931\teval-auc:0.77686\n",
            "[401]\ttrain-auc:0.81942\teval-auc:0.77690\n",
            "[402]\ttrain-auc:0.81958\teval-auc:0.77700\n",
            "[403]\ttrain-auc:0.81965\teval-auc:0.77699\n",
            "[404]\ttrain-auc:0.81974\teval-auc:0.77704\n",
            "[405]\ttrain-auc:0.81983\teval-auc:0.77713\n",
            "[406]\ttrain-auc:0.81988\teval-auc:0.77707\n",
            "[407]\ttrain-auc:0.81997\teval-auc:0.77704\n",
            "[408]\ttrain-auc:0.82014\teval-auc:0.77701\n",
            "[409]\ttrain-auc:0.82030\teval-auc:0.77721\n",
            "[410]\ttrain-auc:0.82043\teval-auc:0.77719\n",
            "[411]\ttrain-auc:0.82054\teval-auc:0.77732\n",
            "[412]\ttrain-auc:0.82063\teval-auc:0.77738\n",
            "[413]\ttrain-auc:0.82078\teval-auc:0.77742\n",
            "[414]\ttrain-auc:0.82088\teval-auc:0.77732\n",
            "[415]\ttrain-auc:0.82100\teval-auc:0.77726\n",
            "[416]\ttrain-auc:0.82120\teval-auc:0.77728\n",
            "[417]\ttrain-auc:0.82131\teval-auc:0.77731\n",
            "[418]\ttrain-auc:0.82140\teval-auc:0.77730\n",
            "[419]\ttrain-auc:0.82150\teval-auc:0.77735\n",
            "[420]\ttrain-auc:0.82161\teval-auc:0.77746\n",
            "[421]\ttrain-auc:0.82168\teval-auc:0.77749\n",
            "[422]\ttrain-auc:0.82178\teval-auc:0.77749\n",
            "[423]\ttrain-auc:0.82184\teval-auc:0.77743\n",
            "[424]\ttrain-auc:0.82193\teval-auc:0.77756\n",
            "[425]\ttrain-auc:0.82202\teval-auc:0.77756\n",
            "[426]\ttrain-auc:0.82214\teval-auc:0.77749\n",
            "[427]\ttrain-auc:0.82223\teval-auc:0.77755\n",
            "[428]\ttrain-auc:0.82233\teval-auc:0.77759\n",
            "[429]\ttrain-auc:0.82241\teval-auc:0.77749\n",
            "[430]\ttrain-auc:0.82251\teval-auc:0.77750\n",
            "[431]\ttrain-auc:0.82259\teval-auc:0.77756\n",
            "[432]\ttrain-auc:0.82269\teval-auc:0.77746\n",
            "[433]\ttrain-auc:0.82276\teval-auc:0.77732\n",
            "[434]\ttrain-auc:0.82287\teval-auc:0.77750\n",
            "[435]\ttrain-auc:0.82316\teval-auc:0.77752\n",
            "[436]\ttrain-auc:0.82323\teval-auc:0.77738\n",
            "[437]\ttrain-auc:0.82339\teval-auc:0.77760\n",
            "[438]\ttrain-auc:0.82345\teval-auc:0.77762\n",
            "[439]\ttrain-auc:0.82355\teval-auc:0.77765\n",
            "[440]\ttrain-auc:0.82366\teval-auc:0.77763\n",
            "[441]\ttrain-auc:0.82375\teval-auc:0.77772\n",
            "[442]\ttrain-auc:0.82387\teval-auc:0.77765\n",
            "[443]\ttrain-auc:0.82397\teval-auc:0.77756\n",
            "[444]\ttrain-auc:0.82404\teval-auc:0.77760\n",
            "[445]\ttrain-auc:0.82409\teval-auc:0.77757\n",
            "[446]\ttrain-auc:0.82428\teval-auc:0.77751\n",
            "[447]\ttrain-auc:0.82436\teval-auc:0.77747\n",
            "[448]\ttrain-auc:0.82446\teval-auc:0.77760\n",
            "[449]\ttrain-auc:0.82456\teval-auc:0.77755\n",
            "[450]\ttrain-auc:0.82469\teval-auc:0.77752\n",
            "Training time: 0.06 minutes\n"
          ]
        }
      ]
    },
    {
      "cell_type": "code",
      "source": [
        "# Evaluate the model on the test set\n",
        "y_test_pred_prob = bst.predict(dtest)\n",
        "y_test_pred = (y_test_pred_prob >= 0.5).astype(int)\n",
        "\n",
        "test_accuracy_xgb = accuracy_score(y_test, y_test_pred)\n",
        "print(f\"XGBoost Test Accuracy: {test_accuracy_xgb:.2f}\")\n",
        "print(\"Test Classification Report:\")\n",
        "print(classification_report(y_test, y_test_pred))"
      ],
      "metadata": {
        "colab": {
          "base_uri": "https://localhost:8080/",
          "height": 0
        },
        "id": "QwAw_4MaqkGw",
        "outputId": "961ad908-10b9-485f-e1c7-0fe0ed0c5606"
      },
      "execution_count": 17,
      "outputs": [
        {
          "output_type": "stream",
          "name": "stdout",
          "text": [
            "XGBoost Test Accuracy: 0.78\n",
            "Test Classification Report:\n",
            "              precision    recall  f1-score   support\n",
            "\n",
            "           0       0.97      0.79      0.87     35547\n",
            "           1       0.15      0.62      0.25      2160\n",
            "\n",
            "    accuracy                           0.78     37707\n",
            "   macro avg       0.56      0.71      0.56     37707\n",
            "weighted avg       0.92      0.78      0.84     37707\n",
            "\n"
          ]
        },
        {
          "output_type": "stream",
          "name": "stderr",
          "text": [
            "/usr/local/lib/python3.10/dist-packages/xgboost/core.py:158: UserWarning: [18:19:25] WARNING: /workspace/src/common/error_msg.cc:27: The tree method `gpu_hist` is deprecated since 2.0.0. To use GPU training, set the `device` parameter to CUDA instead.\n",
            "\n",
            "    E.g. tree_method = \"hist\", device = \"cuda\"\n",
            "\n",
            "  warnings.warn(smsg, UserWarning)\n"
          ]
        }
      ]
    },
    {
      "cell_type": "code",
      "source": [
        "# Confusion Matrix\n",
        "ConfusionMatrixDisplay.from_predictions(y_test, y_test_pred)\n",
        "plt.title('XGBoost Confusion Matrix - Test Set')\n",
        "plt.show()"
      ],
      "metadata": {
        "colab": {
          "base_uri": "https://localhost:8080/",
          "height": 472
        },
        "id": "piFOjeAQqs2Q",
        "outputId": "10573168-97b9-4ac1-eba3-bfd20dd4fa81"
      },
      "execution_count": 18,
      "outputs": [
        {
          "output_type": "display_data",
          "data": {
            "text/plain": [
              "<Figure size 640x480 with 2 Axes>"
            ],
            "image/png": "[encoded data removed]"
          },
          "metadata": {}
        }
      ]
    },
    {
      "cell_type": "code",
      "source": [
        "# Feature Importance\n",
        "importances = bst.get_score(importance_type='gain')\n",
        "importances = {vectorizer.get_feature_names_out()[int(k[1:])]: v for k, v in importances.items()}\n",
        "sorted_importances = sorted(importances.items(), key=lambda item: item[1], reverse=True)\n",
        "\n",
        "# Print the top 20 features\n",
        "print(\"Top 20 Important Features:\")\n",
        "for feature, importance in sorted_importances[:20]:\n",
        "    print(f\"{feature}: {importance:.4f}\")"
      ],
      "metadata": {
        "colab": {
          "base_uri": "https://localhost:8080/",
          "height": 0
        },
        "id": "jI0EGvY6qs4q",
        "outputId": "c56283a4-295d-4bbb-fd25-4df8c983e1cc"
      },
      "execution_count": 19,
      "outputs": [
        {
          "output_type": "stream",
          "name": "stdout",
          "text": [
            "Top 20 Important Features:\n",
            "v8: 325.6450\n",
            "while: 292.7331\n",
            "else: 288.5895\n",
            "NUMBER: 273.7467\n",
            "MAYBE_MISSING_PARAMETER: 254.4589\n",
            "sizeof: 224.0546\n",
            "switch: 194.3581\n",
            "this: 183.6596\n",
            "PNG_CONST: 173.9930\n",
            "default: 170.4141\n",
            "static: 167.0229\n",
            "FunctionCallbackInfo: 166.9600\n",
            "GLES2DecoderImpl: 166.3823\n",
            "ND_PRINT: 163.2406\n",
            "if: 160.6336\n",
            "Document: 146.8983\n",
            "long: 143.2000\n",
            "new: 141.0021\n",
            "OM_uint32: 139.0647\n",
            "register: 135.4797\n"
          ]
        }
      ]
    },
    {
      "cell_type": "code",
      "source": [],
      "metadata": {
        "id": "-aTjv_iAp4fy"
      },
      "execution_count": 19,
      "outputs": []
    }
  ]
}