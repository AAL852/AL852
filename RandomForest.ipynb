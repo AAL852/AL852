{
  "nbformat": 4,
  "nbformat_minor": 0,
  "metadata": {
    "colab": {
      "provenance": [],
      "machine_shape": "hm",
      "gpuType": "A100"
    },
    "kernelspec": {
      "name": "python3",
      "display_name": "Python 3"
    },
    "language_info": {
      "name": "python"
    },
    "accelerator": "GPU"
  },
  "cells": [
    {
      "cell_type": "code",
      "source": [
        "from google.colab import drive\n",
        "drive.mount('/content/drive')"
      ],
      "metadata": {
        "colab": {
          "base_uri": "https://localhost:8080/"
        },
        "id": "g4XhJeWXlI28",
        "outputId": "975fe86b-ae9c-4010-d557-1f8aadc1d224"
      },
      "execution_count": 1,
      "outputs": [
        {
          "output_type": "stream",
          "name": "stdout",
          "text": [
            "Drive already mounted at /content/drive; to attempt to forcibly remount, call drive.mount(\"/content/drive\", force_remount=True).\n"
          ]
        }
      ]
    },
    {
      "cell_type": "code",
      "source": [
        "# Random Forest\n",
        "import numpy as np\n",
        "import pandas as pd\n",
        "import re\n",
        "import time\n",
        "from sklearn.ensemble import RandomForestClassifier\n",
        "from sklearn.metrics import accuracy_score, classification_report, confusion_matrix, ConfusionMatrixDisplay\n",
        "from sklearn.feature_extraction.text import TfidfVectorizer\n",
        "from sklearn.model_selection import GridSearchCV, StratifiedKFold, cross_val_score, train_test_split\n",
        "from sklearn.metrics import f1_score\n",
        "import matplotlib.pyplot as plt\n",
        "from tqdm import tqdm\n",
        "from pygments.lexers import CLexer\n",
        "from pygments import lex\n",
        "from imblearn.over_sampling import RandomOverSampler\n",
        "import random\n",
        "import string"
      ],
      "metadata": {
        "id": "WWh6Q_gnlwYV"
      },
      "execution_count": 2,
      "outputs": []
    },
    {
      "cell_type": "code",
      "source": [
        "# Fix random seeds for reproducibility\n",
        "np.random.seed(42)\n",
        "random.seed(42)"
      ],
      "metadata": {
        "id": "H2YpEWxWEwTj"
      },
      "execution_count": 3,
      "outputs": []
    },
    {
      "cell_type": "code",
      "source": [
        "# Load Dataset\n",
        "# Sample a subset to fit into memory while ensuring balanced classes\n",
        "data_path = '/content/drive/MyDrive/704/MSR_data_cleaned.csv'\n",
        "\n",
        "with open(data_path, 'r') as file:\n",
        "    total_rows = sum(1 for _ in file)\n",
        "\n",
        "chunk_size = 100000\n",
        "chunks = []\n",
        "\n",
        "# Identify rows with issues to skip\n",
        "rows_to_skip = [188535]\n",
        "\n",
        "for chunk in pd.read_csv(data_path, chunksize=chunk_size, on_bad_lines='skip', skiprows=rows_to_skip, low_memory=False):\n",
        "    chunks.append(chunk)\n",
        "\n",
        "df = pd.read_csv(data_path, on_bad_lines='skip', skiprows=rows_to_skip, low_memory=False)\n",
        "print(\"Dataset shape:\", df.shape)"
      ],
      "metadata": {
        "id": "-RNyquNX2Gb9",
        "colab": {
          "base_uri": "https://localhost:8080/"
        },
        "outputId": "c5451bad-13b3-4fd7-8ce6-843215bbbfb8"
      },
      "execution_count": 4,
      "outputs": [
        {
          "output_type": "stream",
          "name": "stdout",
          "text": [
            "Dataset shape: (188534, 36)\n"
          ]
        }
      ]
    },
    {
      "cell_type": "markdown",
      "source": [
        "### Data Preprocessing and Data Augmentation"
      ],
      "metadata": {
        "id": "ZuK5OX7p5wGZ"
      }
    },
    {
      "cell_type": "code",
      "source": [
        "# Prepare Features and Labels\n",
        "X = df['func_before']\n",
        "y = df['vul'].apply(lambda x: 1 if int(x) > 0 else 0)  # Ensure labels are binary (0 or 1)"
      ],
      "metadata": {
        "id": "UT2FfROl5lnm"
      },
      "execution_count": 5,
      "outputs": []
    },
    {
      "cell_type": "code",
      "source": [
        "# Split the data\n",
        "X_temp, X_test, y_temp, y_test = train_test_split(X, y, test_size=0.20, random_state=42, stratify=y)\n",
        "X_train_original, X_val, y_train_original, y_val = train_test_split(X_temp, y_temp, test_size=0.25, random_state=42, stratify=y_temp)  # 0.25 x 0.8 = 0.20\n",
        "\n",
        "print(f\"Training set size: {len(X_train_original)}\")\n",
        "print(f\"Validation set size: {len(X_val)}\")\n",
        "print(f\"Test set size: {len(X_test)}\")\n"
      ],
      "metadata": {
        "id": "vxHqBs075nKB",
        "colab": {
          "base_uri": "https://localhost:8080/"
        },
        "outputId": "7b7a7312-4407-4da4-ef6a-40ebb0203750"
      },
      "execution_count": 6,
      "outputs": [
        {
          "output_type": "stream",
          "name": "stdout",
          "text": [
            "Training set size: 113120\n",
            "Validation set size: 37707\n",
            "Test set size: 37707\n"
          ]
        }
      ]
    },
    {
      "cell_type": "code",
      "source": [
        "# Function to print class distribution\n",
        "def print_class_distribution(y, dataset_name):\n",
        "    unique, counts = np.unique(y, return_counts=True)\n",
        "    class_counts = dict(zip(unique, counts))\n",
        "    print(f\"Class distribution in {dataset_name} set:\", class_counts)\n",
        "\n",
        "print_class_distribution(y_train_original, \"Original Training\")\n",
        "print_class_distribution(y_val, \"Validation\")\n",
        "print_class_distribution(y_test, \"Test\")"
      ],
      "metadata": {
        "colab": {
          "base_uri": "https://localhost:8080/"
        },
        "id": "uz5ol2SCFNjw",
        "outputId": "3eb5234a-bd30-4e78-cf01-674ed3e69559"
      },
      "execution_count": 7,
      "outputs": [
        {
          "output_type": "stream",
          "name": "stdout",
          "text": [
            "Class distribution in Original Training set: {0: 106642, 1: 6478}\n",
            "Class distribution in Validation set: {0: 35547, 1: 2160}\n",
            "Class distribution in Test set: {0: 35547, 1: 2160}\n"
          ]
        }
      ]
    },
    {
      "cell_type": "code",
      "source": [
        "# Preprocessing function\n",
        "def preprocess_code(code):\n",
        "    code = re.sub(r'//.*', '', code)  # Remove single-line comments\n",
        "    code = re.sub(r'/\\*.*?\\*/', '', code, flags=re.DOTALL)  # Remove multi-line comments\n",
        "    code = re.sub(r'\".*?\"', '', code)  # Remove string literals\n",
        "    code = re.sub(r'\\b[-+]?\\d*\\.?\\d+\\b', 'NUMBER', code)  # Normalize numbers\n",
        "    return code.strip()"
      ],
      "metadata": {
        "id": "YeXDw4Th5pRG"
      },
      "execution_count": 8,
      "outputs": []
    },
    {
      "cell_type": "code",
      "source": [
        "# Data Augmentation: Variable Renaming\n",
        "c_keywords = set([\n",
        "    'auto', 'break', 'case', 'char', 'const', 'continue', 'default',\n",
        "    'do', 'double', 'else', 'enum', 'extern', 'float', 'for', 'goto',\n",
        "    'if', 'inline', 'int', 'long', 'register', 'restrict', 'return',\n",
        "    'short', 'signed', 'sizeof', 'static', 'struct', 'switch', 'typedef',\n",
        "    'union', 'unsigned', 'void', 'volatile', 'while', '_Alignas',\n",
        "    '_Alignof', '_Atomic', '_Bool', '_Complex', '_Generic', '_Imaginary',\n",
        "    '_Noreturn', '_Static_assert', '_Thread_local', 'NUMBER',\n",
        "    # Add more C++ keywords\n",
        "    'asm', 'bool', 'catch', 'class', 'const_cast', 'delete', 'dynamic_cast',\n",
        "    'explicit', 'export', 'false', 'friend', 'mutable', 'namespace', 'new',\n",
        "    'operator', 'private', 'protected', 'public', 'reinterpret_cast',\n",
        "    'static_cast', 'template', 'this', 'throw', 'true', 'try', 'typeid',\n",
        "    'typename', 'using', 'virtual', 'wchar_t'\n",
        "])\n",
        "\n",
        "def rename_variables(code):\n",
        "    # Pattern to find identifiers (variable and function names)\n",
        "    pattern = r'\\b([a-zA-Z_][a-zA-Z0-9_]*)\\b'\n",
        "\n",
        "    # Find all identifiers in the code\n",
        "    identifiers = set(re.findall(pattern, code))\n",
        "    # Exclude keywords\n",
        "    identifiers = identifiers - c_keywords\n",
        "\n",
        "    # Create a mapping from original names to new random names\n",
        "    new_names = {}\n",
        "    for identifier in identifiers:\n",
        "        # Generate a random name\n",
        "        random_name = ''.join(random.choices(string.ascii_letters, k=8))\n",
        "        new_names[identifier] = random_name\n",
        "\n",
        "    # Replace identifiers in the code\n",
        "    def replace_identifier(match):\n",
        "        word = match.group(0)\n",
        "        return new_names.get(word, word)\n",
        "\n",
        "    # Replace all occurrences using the pattern\n",
        "    augmented_code = re.sub(pattern, replace_identifier, code)\n",
        "    return augmented_code"
      ],
      "metadata": {
        "id": "W40PgAy4FwQq"
      },
      "execution_count": 9,
      "outputs": []
    },
    {
      "cell_type": "code",
      "source": [
        "# Apply data augmentation to training data\n",
        "augmentation_factor = 1\n",
        "X_train_augmented = []\n",
        "y_train_augmented = []\n",
        "\n",
        "for code, label in zip(X_train_original, y_train_original):\n",
        "    # Add the original code\n",
        "    X_train_augmented.append(code)\n",
        "    y_train_augmented.append(label)\n",
        "\n",
        "    # Generate augmented samples\n",
        "    for _ in range(augmentation_factor):\n",
        "        augmented_code = rename_variables(code)\n",
        "        X_train_augmented.append(augmented_code)\n",
        "        y_train_augmented.append(label)\n",
        "\n",
        "# Convert to pandas Series\n",
        "X_train_augmented = pd.Series(X_train_augmented)\n",
        "y_train_augmented = pd.Series(y_train_augmented)"
      ],
      "metadata": {
        "id": "BWPgS3bXF1mr"
      },
      "execution_count": 10,
      "outputs": []
    },
    {
      "cell_type": "code",
      "source": [
        "# Apply preprocessing\n",
        "X_train_augmented = X_train_augmented.apply(preprocess_code)\n",
        "X_val = X_val.apply(preprocess_code)\n",
        "X_test = X_test.apply(preprocess_code)"
      ],
      "metadata": {
        "id": "QYfOwNtvGGHO"
      },
      "execution_count": 11,
      "outputs": []
    },
    {
      "cell_type": "markdown",
      "source": [
        "### Feature Extraction"
      ],
      "metadata": {
        "id": "FoSnXmIg5-6x"
      }
    },
    {
      "cell_type": "code",
      "source": [
        "# Tokenization function\n",
        "def clexer_tokenize(code):\n",
        "    lexer = CLexer()\n",
        "    return ' '.join([token[1] for token in lex(code, lexer)])\n",
        "\n",
        "# Tokenize the code snippets\n",
        "X_train_tokenized = X_train_augmented.apply(clexer_tokenize)\n",
        "X_val_tokenized = X_val.apply(clexer_tokenize)\n",
        "X_test_tokenized = X_test.apply(clexer_tokenize)"
      ],
      "metadata": {
        "id": "joS4-8Wb6BIn"
      },
      "execution_count": 12,
      "outputs": []
    },
    {
      "cell_type": "code",
      "source": [
        "# Vectorization with TF-IDF\n",
        "vectorizer = TfidfVectorizer(max_features=5000, lowercase=False, min_df=2)\n",
        "X_train_vectorized = vectorizer.fit_transform(X_train_tokenized)\n",
        "X_val_vectorized = vectorizer.transform(X_val_tokenized)\n",
        "X_test_vectorized = vectorizer.transform(X_test_tokenized)\n",
        "\n",
        "print(\"Training data shape:\", X_train_vectorized.shape)\n",
        "print(\"Validation data shape:\", X_val_vectorized.shape)\n",
        "print(\"Test data shape:\", X_test_vectorized.shape)\n"
      ],
      "metadata": {
        "id": "l-wXYZjf6G9g"
      },
      "execution_count": 13,
      "outputs": []
    },
    {
      "cell_type": "markdown",
      "source": [
        "### Handling Class Imbalance"
      ],
      "metadata": {
        "id": "kI-1mPCW6Nej"
      }
    },
    {
      "cell_type": "code",
      "source": [
        "# Oversampling\n",
        "ros = RandomOverSampler(random_state=42)\n",
        "X_train_resampled, y_train_resampled = ros.fit_resample(X_train_vectorized, y_train_augmented)\n",
        "\n",
        "print(\"Resampled training data shape:\", X_train_resampled.shape)\n",
        "print_class_distribution(y_train_resampled, \"Resampled Training\")"
      ],
      "metadata": {
        "id": "4yKPQF-u6aoP",
        "colab": {
          "base_uri": "https://localhost:8080/"
        },
        "outputId": "9d9d28ce-3be0-422f-8620-adc0768896f3"
      },
      "execution_count": 14,
      "outputs": [
        {
          "output_type": "stream",
          "name": "stdout",
          "text": [
            "Resampled training data shape: (426568, 5000)\n",
            "Class distribution in Resampled Training set: {0: 213284, 1: 213284}\n"
          ]
        }
      ]
    },
    {
      "cell_type": "markdown",
      "source": [
        "### Model Training and Hyperparameter Tuning"
      ],
      "metadata": {
        "id": "wxwaO8EW6fBm"
      }
    },
    {
      "cell_type": "code",
      "source": [
        "# Random Forest Model Training\n",
        "rf_param_grid = {\n",
        "    'n_estimators': [50, 100, 150],\n",
        "    'max_depth': [None, 5, 10, 15],\n",
        "    'min_samples_split': [2, 5, 10],\n",
        "    'min_samples_leaf': [1, 2, 4]\n",
        "}\n",
        "\n",
        "rf = RandomForestClassifier(random_state=42)\n",
        "rf_grid_search = GridSearchCV(estimator=rf, param_grid=rf_param_grid, cv=5, scoring='f1', n_jobs=-1, verbose=2)\n",
        "\n",
        "train_start = time.time()\n",
        "rf_grid_search.fit(X_train_resampled, y_train_resampled)\n",
        "train_time = time.time() - train_start\n",
        "\n",
        "best_rf = rf_grid_search.best_estimator_\n",
        "print(\"Best Parameters for Random Forest:\", rf_grid_search.best_params_)"
      ],
      "metadata": {
        "id": "hQDzvdEJ6doT",
        "colab": {
          "base_uri": "https://localhost:8080/"
        },
        "outputId": "88965f66-87a4-4a75-829f-86aead3cdf4a"
      },
      "execution_count": 15,
      "outputs": [
        {
          "output_type": "stream",
          "name": "stdout",
          "text": [
            "Fitting 5 folds for each of 108 candidates, totalling 540 fits\n"
          ]
        },
        {
          "output_type": "stream",
          "name": "stderr",
          "text": [
            "/usr/local/lib/python3.10/dist-packages/joblib/externals/loky/process_executor.py:752: UserWarning: A worker stopped while some jobs were given to the executor. This can be caused by a too short worker timeout or by a memory leak.\n",
            "  warnings.warn(\n"
          ]
        },
        {
          "output_type": "stream",
          "name": "stdout",
          "text": [
            "Best Parameters for Random Forest: {'max_depth': None, 'min_samples_leaf': 1, 'min_samples_split': 2, 'n_estimators': 150}\n"
          ]
        }
      ]
    },
    {
      "cell_type": "code",
      "source": [
        "# Cross-Validation for Random Forest\n",
        "cv = StratifiedKFold(n_splits=5, shuffle=True, random_state=42)\n",
        "rf_cv_scores = cross_val_score(best_rf, X_train_resampled, y_train_resampled, cv=cv, scoring='f1')\n",
        "print(\"Random Forest Cross-Validation F1 Scores:\", rf_cv_scores)\n",
        "print(\"Mean Random Forest Cross-Validation F1 Score:\", np.mean(rf_cv_scores))"
      ],
      "metadata": {
        "id": "-VCnv8pvB8x3",
        "colab": {
          "base_uri": "https://localhost:8080/"
        },
        "outputId": "0d1c4f12-c1ff-4d20-b263-001195b05f95"
      },
      "execution_count": 16,
      "outputs": [
        {
          "output_type": "stream",
          "name": "stdout",
          "text": [
            "Random Forest Cross-Validation F1 Scores: [0.94849872 0.9457725  0.94692904 0.94613349 0.9468976 ]\n",
            "Mean Random Forest Cross-Validation F1 Score: 0.9468462693564378\n"
          ]
        }
      ]
    },
    {
      "cell_type": "markdown",
      "source": [
        "### Model Evaluation"
      ],
      "metadata": {
        "id": "sZIQNsk563YJ"
      }
    },
    {
      "cell_type": "code",
      "source": [
        "# Evaluate and Predict on Validation Set\n",
        "y_val_pred_rf = best_rf.predict(X_val_vectorized)\n",
        "val_accuracy_rf = accuracy_score(y_val, y_val_pred_rf)\n",
        "print(f\"Random Forest Validation Accuracy: {val_accuracy_rf:.2f}\")\n",
        "print(\"Validation Classification Report:\")\n",
        "print(classification_report(y_val, y_val_pred_rf))\n"
      ],
      "metadata": {
        "id": "711_xadE64FE",
        "colab": {
          "base_uri": "https://localhost:8080/"
        },
        "outputId": "da8192b4-7a9b-4034-8268-b2bcf3bd04e7"
      },
      "execution_count": 17,
      "outputs": [
        {
          "output_type": "stream",
          "name": "stdout",
          "text": [
            "Random Forest Validation Accuracy: 0.94\n",
            "Validation Classification Report:\n",
            "              precision    recall  f1-score   support\n",
            "\n",
            "           0       0.95      0.98      0.97     35547\n",
            "           1       0.37      0.19      0.25      2160\n",
            "\n",
            "    accuracy                           0.94     37707\n",
            "   macro avg       0.66      0.58      0.61     37707\n",
            "weighted avg       0.92      0.94      0.93     37707\n",
            "\n"
          ]
        }
      ]
    },
    {
      "cell_type": "code",
      "source": [
        "# Evaluate and Predict on Test Set\n",
        "y_test_pred_rf = best_rf.predict(X_test_vectorized)\n",
        "test_accuracy_rf = accuracy_score(y_test, y_test_pred_rf)\n",
        "print(f\"Random Forest Test Accuracy: {test_accuracy_rf:.2f}\")\n",
        "print(\"Test Classification Report:\")\n",
        "print(classification_report(y_test, y_test_pred_rf))\n"
      ],
      "metadata": {
        "id": "nsq7oAm67CCC",
        "colab": {
          "base_uri": "https://localhost:8080/"
        },
        "outputId": "de470d39-7775-44f7-ae1a-21ecf9cab224"
      },
      "execution_count": 18,
      "outputs": [
        {
          "output_type": "stream",
          "name": "stdout",
          "text": [
            "Random Forest Test Accuracy: 0.93\n",
            "Test Classification Report:\n",
            "              precision    recall  f1-score   support\n",
            "\n",
            "           0       0.95      0.98      0.97     35547\n",
            "           1       0.36      0.18      0.24      2160\n",
            "\n",
            "    accuracy                           0.93     37707\n",
            "   macro avg       0.66      0.58      0.60     37707\n",
            "weighted avg       0.92      0.93      0.92     37707\n",
            "\n"
          ]
        }
      ]
    },
    {
      "cell_type": "code",
      "source": [
        "# Confusion matrix for test set\n",
        "ConfusionMatrixDisplay.from_predictions(y_test, y_test_pred_rf)\n",
        "plt.title('Random Forest Confusion Matrix - Test Set')\n",
        "plt.show()\n"
      ],
      "metadata": {
        "id": "zVASFMEC7H_j",
        "colab": {
          "base_uri": "https://localhost:8080/",
          "height": 472
        },
        "outputId": "2becbe01-e08f-4e80-9e4f-f05d28142b46"
      },
      "execution_count": 19,
      "outputs": [
        {
          "output_type": "display_data",
          "data": {
            "text/plain": [
              "<Figure size 640x480 with 2 Axes>"
            ],
            "image/png": "[encoded data removed]"
          },
          "metadata": {}
        }
      ]
    },
    {
      "cell_type": "code",
      "source": [
        "# Feature Importance\n",
        "importances = best_rf.feature_importances_\n",
        "indices = np.argsort(importances)[::-1]\n",
        "feature_names = vectorizer.get_feature_names_out()"
      ],
      "metadata": {
        "id": "u0TGmM8I7ZPz"
      },
      "execution_count": 20,
      "outputs": []
    },
    {
      "cell_type": "code",
      "source": [
        "# Print the top 20 features\n",
        "print(\"Top 20 Important Features:\")\n",
        "for idx in indices[:20]:\n",
        "    print(f\"{feature_names[idx]}: {importances[idx]:.4f}\")"
      ],
      "metadata": {
        "id": "0EfQw0Vn7cu9",
        "colab": {
          "base_uri": "https://localhost:8080/"
        },
        "outputId": "ab7f78dc-21c7-4496-e016-152fbca105c3"
      },
      "execution_count": 21,
      "outputs": [
        {
          "output_type": "stream",
          "name": "stdout",
          "text": [
            "Top 20 Important Features:\n",
            "if: 0.0587\n",
            "NUMBER: 0.0560\n",
            "return: 0.0479\n",
            "void: 0.0365\n",
            "int: 0.0335\n",
            "const: 0.0313\n",
            "static: 0.0301\n",
            "else: 0.0273\n",
            "struct: 0.0247\n",
            "char: 0.0184\n",
            "sizeof: 0.0179\n",
            "for: 0.0175\n",
            "bool: 0.0153\n",
            "false: 0.0137\n",
            "unsigned: 0.0135\n",
            "while: 0.0127\n",
            "long: 0.0125\n",
            "true: 0.0120\n",
            "this: 0.0117\n",
            "goto: 0.0115\n"
          ]
        }
      ]
    }
  ]
}